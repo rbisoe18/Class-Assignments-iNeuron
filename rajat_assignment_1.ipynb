{
  "nbformat": 4,
  "nbformat_minor": 0,
  "metadata": {
    "colab": {
      "provenance": [],
      "collapsed_sections": []
    },
    "kernelspec": {
      "name": "python3",
      "display_name": "Python 3"
    },
    "language_info": {
      "name": "python"
    }
  },
  "cells": [
    {
      "cell_type": "markdown",
      "source": [
        "# [Bootcamp 2.0 | Assignment No. 1]:"
      ],
      "metadata": {
        "id": "7S-TwEpSfGDu"
      }
    },
    {
      "cell_type": "markdown",
      "source": [
        "## 1. Find out all the types of error that we have encountered in our lecture and why? Also include the examples."
      ],
      "metadata": {
        "id": "zLvTfhglfX15"
      }
    },
    {
      "cell_type": "markdown",
      "source": [
        "## Answer :"
      ],
      "metadata": {
        "id": "1QvNgWfQi3EF"
      }
    },
    {
      "cell_type": "markdown",
      "source": [
        "i)\n"
      ],
      "metadata": {
        "id": "xIEo9fuxjtV9"
      }
    },
    {
      "cell_type": "code",
      "execution_count": null,
      "metadata": {
        "colab": {
          "base_uri": "https://localhost:8080/",
          "height": 130
        },
        "id": "Oc-Y-g46e4i2",
        "outputId": "78f325e0-6006-4131-9335-88251f427d90"
      },
      "outputs": [
        {
          "output_type": "error",
          "ename": "SyntaxError",
          "evalue": "ignored",
          "traceback": [
            "\u001b[0;36m  File \u001b[0;32m\"<ipython-input-1-22279741a23e>\"\u001b[0;36m, line \u001b[0;32m1\u001b[0m\n\u001b[0;31m    print(\"My Name is \"RAJAT\" \")\u001b[0m\n\u001b[0m                           ^\u001b[0m\n\u001b[0;31mSyntaxError\u001b[0m\u001b[0;31m:\u001b[0m invalid syntax\n"
          ]
        }
      ],
      "source": [
        "print(\"My Name is \"RAJAT\" \")  # Here It can take \"RAJAT\" inside another (\" \")"
      ]
    },
    {
      "cell_type": "markdown",
      "source": [
        "### Solution"
      ],
      "metadata": {
        "id": "mcRs1xFWiQtg"
      }
    },
    {
      "cell_type": "code",
      "source": [
        "print(\"My Name is \\\"RAJAT\\\" \")"
      ],
      "metadata": {
        "colab": {
          "base_uri": "https://localhost:8080/"
        },
        "id": "GkH8FLGRgY6U",
        "outputId": "db257358-cd93-476f-b485-50680c807a85"
      },
      "execution_count": null,
      "outputs": [
        {
          "output_type": "stream",
          "name": "stdout",
          "text": [
            "My Name is \"RAJAT\" \n"
          ]
        }
      ]
    },
    {
      "cell_type": "code",
      "source": [
        "print(\"My Name is 'RAJAT' \")"
      ],
      "metadata": {
        "colab": {
          "base_uri": "https://localhost:8080/"
        },
        "id": "gAY1iOqpgpAz",
        "outputId": "5ce6d686-7552-4f45-fb10-abee18ba1248"
      },
      "execution_count": null,
      "outputs": [
        {
          "output_type": "stream",
          "name": "stdout",
          "text": [
            "My Name is 'RAJAT' \n"
          ]
        }
      ]
    },
    {
      "cell_type": "code",
      "source": [
        "print(\"\"\"My Name is \"RAJAT\" \"\"\")"
      ],
      "metadata": {
        "colab": {
          "base_uri": "https://localhost:8080/"
        },
        "id": "3D_MxBgZg2oh",
        "outputId": "70918466-675b-48e0-a902-483d489c832a"
      },
      "execution_count": null,
      "outputs": [
        {
          "output_type": "stream",
          "name": "stdout",
          "text": [
            "My Name is \"RAJAT\" \n"
          ]
        }
      ]
    },
    {
      "cell_type": "markdown",
      "source": [
        "ii)\n",
        "\n"
      ],
      "metadata": {
        "id": "Mx9UFeyWjycd"
      }
    },
    {
      "cell_type": "code",
      "source": [
        "ten* =10 # Variable names should not contain any special characters like ^ % $ ! @ # ^ & * ( )"
      ],
      "metadata": {
        "colab": {
          "base_uri": "https://localhost:8080/",
          "height": 130
        },
        "id": "eByXQtF_j1Kq",
        "outputId": "efa4d8b6-ac66-4513-dcfc-1d3533ddd7a6"
      },
      "execution_count": null,
      "outputs": [
        {
          "output_type": "error",
          "ename": "SyntaxError",
          "evalue": "ignored",
          "traceback": [
            "\u001b[0;36m  File \u001b[0;32m\"<ipython-input-5-8e602cc286fc>\"\u001b[0;36m, line \u001b[0;32m1\u001b[0m\n\u001b[0;31m    ten* =10\u001b[0m\n\u001b[0m         ^\u001b[0m\n\u001b[0;31mSyntaxError\u001b[0m\u001b[0;31m:\u001b[0m invalid syntax\n"
          ]
        }
      ]
    },
    {
      "cell_type": "code",
      "source": [
        "ten%number =10 # Variable names should not contain any special characters like ^ % $ ! @ # ^ & * ( )"
      ],
      "metadata": {
        "colab": {
          "base_uri": "https://localhost:8080/",
          "height": 130
        },
        "id": "iET3_jBnlPvm",
        "outputId": "45628c6a-d9a6-4540-93b7-7542c78fde56"
      },
      "execution_count": null,
      "outputs": [
        {
          "output_type": "error",
          "ename": "SyntaxError",
          "evalue": "ignored",
          "traceback": [
            "\u001b[0;36m  File \u001b[0;32m\"<ipython-input-6-9a8d4cf01b8b>\"\u001b[0;36m, line \u001b[0;32m1\u001b[0m\n\u001b[0;31m    ten%number =10 # Variable names should not contain any special characters like ^ % $ ! @ # ^ & * ( )\u001b[0m\n\u001b[0m                                                                                                        ^\u001b[0m\n\u001b[0;31mSyntaxError\u001b[0m\u001b[0;31m:\u001b[0m can't assign to operator\n"
          ]
        }
      ]
    },
    {
      "cell_type": "code",
      "source": [
        "ten=10\n",
        "ten_number=10\n",
        "ten%number =10 # In Any Line contain variable ^ % $ ! @ # ^ & * ( ) \n",
        "tenNumber=10"
      ],
      "metadata": {
        "colab": {
          "base_uri": "https://localhost:8080/",
          "height": 130
        },
        "id": "iT6YE0DKmb2-",
        "outputId": "53c9cc16-1439-40d0-bbd5-78f48e1befde"
      },
      "execution_count": null,
      "outputs": [
        {
          "output_type": "error",
          "ename": "SyntaxError",
          "evalue": "ignored",
          "traceback": [
            "\u001b[0;36m  File \u001b[0;32m\"<ipython-input-7-aff270493b63>\"\u001b[0;36m, line \u001b[0;32m3\u001b[0m\n\u001b[0;31m    ten%number =10 # Any of the variable contain these ^ % $ ! @ # ^ & * ( )\u001b[0m\n\u001b[0m                                                                             ^\u001b[0m\n\u001b[0;31mSyntaxError\u001b[0m\u001b[0;31m:\u001b[0m can't assign to operator\n"
          ]
        }
      ]
    },
    {
      "cell_type": "markdown",
      "source": [
        "iii)"
      ],
      "metadata": {
        "id": "CEClyc0kpckW"
      }
    },
    {
      "cell_type": "code",
      "source": [
        "10ten =10 # Variable can't starts with number"
      ],
      "metadata": {
        "colab": {
          "base_uri": "https://localhost:8080/",
          "height": 130
        },
        "id": "5GT4P6TTnm3Z",
        "outputId": "1116ac98-54b1-460d-e7d9-0d47fcd2d198"
      },
      "execution_count": null,
      "outputs": [
        {
          "output_type": "error",
          "ename": "SyntaxError",
          "evalue": "ignored",
          "traceback": [
            "\u001b[0;36m  File \u001b[0;32m\"<ipython-input-8-0ffaf0936011>\"\u001b[0;36m, line \u001b[0;32m1\u001b[0m\n\u001b[0;31m    10ten =10 # Variable can't starts with number\u001b[0m\n\u001b[0m        ^\u001b[0m\n\u001b[0;31mSyntaxError\u001b[0m\u001b[0;31m:\u001b[0m invalid syntax\n"
          ]
        }
      ]
    },
    {
      "cell_type": "markdown",
      "source": [
        "iv)"
      ],
      "metadata": {
        "id": "rHniixRSpl_m"
      }
    },
    {
      "cell_type": "code",
      "source": [
        "ten number= 10 # Can't provide space in a variable"
      ],
      "metadata": {
        "colab": {
          "base_uri": "https://localhost:8080/",
          "height": 130
        },
        "id": "_6nRLOSLpaAx",
        "outputId": "f4bec530-0d3d-413e-bd56-cde68f0faa04"
      },
      "execution_count": null,
      "outputs": [
        {
          "output_type": "error",
          "ename": "SyntaxError",
          "evalue": "ignored",
          "traceback": [
            "\u001b[0;36m  File \u001b[0;32m\"<ipython-input-9-2f2283333d95>\"\u001b[0;36m, line \u001b[0;32m1\u001b[0m\n\u001b[0;31m    ten number= 10 # Can't provide space in a variable\u001b[0m\n\u001b[0m             ^\u001b[0m\n\u001b[0;31mSyntaxError\u001b[0m\u001b[0;31m:\u001b[0m invalid syntax\n"
          ]
        }
      ]
    },
    {
      "cell_type": "markdown",
      "source": [
        "v)"
      ],
      "metadata": {
        "id": "ewcWGMNFr0DO"
      }
    },
    {
      "cell_type": "code",
      "source": [
        "\"Day \" + 1 # Can't add String and number so we have to make number to a string"
      ],
      "metadata": {
        "colab": {
          "base_uri": "https://localhost:8080/",
          "height": 165
        },
        "id": "kkbq7Gy-sKd1",
        "outputId": "a1c78a8a-ff6f-49ca-fd2d-9684b99f87dc"
      },
      "execution_count": null,
      "outputs": [
        {
          "output_type": "error",
          "ename": "TypeError",
          "evalue": "ignored",
          "traceback": [
            "\u001b[0;31m---------------------------------------------------------------------------\u001b[0m",
            "\u001b[0;31mTypeError\u001b[0m                                 Traceback (most recent call last)",
            "\u001b[0;32m<ipython-input-11-3355fa59b2c3>\u001b[0m in \u001b[0;36m<module>\u001b[0;34m\u001b[0m\n\u001b[0;32m----> 1\u001b[0;31m \u001b[0;34m\"Day \"\u001b[0m \u001b[0;34m+\u001b[0m \u001b[0;36m1\u001b[0m \u001b[0;31m# Can't add String and number so we have to make number to a string\u001b[0m\u001b[0;34m\u001b[0m\u001b[0;34m\u001b[0m\u001b[0m\n\u001b[0m",
            "\u001b[0;31mTypeError\u001b[0m: can only concatenate str (not \"int\") to str"
          ]
        }
      ]
    },
    {
      "cell_type": "markdown",
      "source": [
        "vi)"
      ],
      "metadata": {
        "id": "gXXqad9Utqx_"
      }
    },
    {
      "cell_type": "code",
      "source": [
        "TEN = 10\n",
        "ten = 20\n",
        "# TEN and ten both are different in terms of lowercase and uppercase letter\n",
        "\n",
        "print(Ten) # Have to print the exact variable which was assigned before"
      ],
      "metadata": {
        "colab": {
          "base_uri": "https://localhost:8080/",
          "height": 200
        },
        "id": "l747cCWqtr6C",
        "outputId": "a7564e62-c483-4406-a7bc-77f3dbd90cb3"
      },
      "execution_count": null,
      "outputs": [
        {
          "output_type": "error",
          "ename": "NameError",
          "evalue": "ignored",
          "traceback": [
            "\u001b[0;31m---------------------------------------------------------------------------\u001b[0m",
            "\u001b[0;31mNameError\u001b[0m                                 Traceback (most recent call last)",
            "\u001b[0;32m<ipython-input-12-7fa044ad1ad9>\u001b[0m in \u001b[0;36m<module>\u001b[0;34m\u001b[0m\n\u001b[1;32m      3\u001b[0m \u001b[0;31m# TEN and ten both are different in terms of lowercase and uppercase letter\u001b[0m\u001b[0;34m\u001b[0m\u001b[0;34m\u001b[0m\u001b[0;34m\u001b[0m\u001b[0m\n\u001b[1;32m      4\u001b[0m \u001b[0;34m\u001b[0m\u001b[0m\n\u001b[0;32m----> 5\u001b[0;31m \u001b[0mprint\u001b[0m\u001b[0;34m(\u001b[0m\u001b[0mTen\u001b[0m\u001b[0;34m)\u001b[0m \u001b[0;31m# Have to print the exact variable which was assigned before\u001b[0m\u001b[0;34m\u001b[0m\u001b[0;34m\u001b[0m\u001b[0m\n\u001b[0m",
            "\u001b[0;31mNameError\u001b[0m: name 'Ten' is not defined"
          ]
        }
      ]
    },
    {
      "cell_type": "markdown",
      "source": [
        "vii)"
      ],
      "metadata": {
        "id": "N38NpToOvsZR"
      }
    },
    {
      "cell_type": "code",
      "source": [
        "a ,b ,c , yes = 10 , 20, \"Rajat\", True\n",
        "\n",
        "print(type(a,b,c,yes)) # We can print ony 1 or 3 arguments "
      ],
      "metadata": {
        "colab": {
          "base_uri": "https://localhost:8080/",
          "height": 200
        },
        "id": "accqk76LvuOe",
        "outputId": "9bb9fac5-3bff-4462-8e08-70d2b0fa1240"
      },
      "execution_count": null,
      "outputs": [
        {
          "output_type": "error",
          "ename": "TypeError",
          "evalue": "ignored",
          "traceback": [
            "\u001b[0;31m---------------------------------------------------------------------------\u001b[0m",
            "\u001b[0;31mTypeError\u001b[0m                                 Traceback (most recent call last)",
            "\u001b[0;32m<ipython-input-13-4385904ae1d9>\u001b[0m in \u001b[0;36m<module>\u001b[0;34m\u001b[0m\n\u001b[1;32m      1\u001b[0m \u001b[0ma\u001b[0m \u001b[0;34m,\u001b[0m\u001b[0mb\u001b[0m \u001b[0;34m,\u001b[0m\u001b[0mc\u001b[0m \u001b[0;34m,\u001b[0m \u001b[0myes\u001b[0m \u001b[0;34m=\u001b[0m \u001b[0;36m10\u001b[0m \u001b[0;34m,\u001b[0m \u001b[0;36m20\u001b[0m\u001b[0;34m,\u001b[0m \u001b[0;34m\"Rajat\"\u001b[0m\u001b[0;34m,\u001b[0m \u001b[0;32mTrue\u001b[0m\u001b[0;34m\u001b[0m\u001b[0;34m\u001b[0m\u001b[0m\n\u001b[1;32m      2\u001b[0m \u001b[0;34m\u001b[0m\u001b[0m\n\u001b[0;32m----> 3\u001b[0;31m \u001b[0mprint\u001b[0m\u001b[0;34m(\u001b[0m\u001b[0mtype\u001b[0m\u001b[0;34m(\u001b[0m\u001b[0ma\u001b[0m\u001b[0;34m,\u001b[0m\u001b[0mb\u001b[0m\u001b[0;34m,\u001b[0m\u001b[0mc\u001b[0m\u001b[0;34m,\u001b[0m\u001b[0myes\u001b[0m\u001b[0;34m)\u001b[0m\u001b[0;34m)\u001b[0m\u001b[0;34m\u001b[0m\u001b[0;34m\u001b[0m\u001b[0m\n\u001b[0m",
            "\u001b[0;31mTypeError\u001b[0m: type() takes 1 or 3 arguments"
          ]
        }
      ]
    },
    {
      "cell_type": "code",
      "source": [
        "print(type(a,b,c)) # If we try to print 3 arguments then 1 must be string , not Integer"
      ],
      "metadata": {
        "colab": {
          "base_uri": "https://localhost:8080/",
          "height": 165
        },
        "id": "gG5GM8tKw_UG",
        "outputId": "35a33366-06d8-4a3a-fbfe-099f43627ee1"
      },
      "execution_count": null,
      "outputs": [
        {
          "output_type": "error",
          "ename": "TypeError",
          "evalue": "ignored",
          "traceback": [
            "\u001b[0;31m---------------------------------------------------------------------------\u001b[0m",
            "\u001b[0;31mTypeError\u001b[0m                                 Traceback (most recent call last)",
            "\u001b[0;32m<ipython-input-14-d3c5c3f536a1>\u001b[0m in \u001b[0;36m<module>\u001b[0;34m\u001b[0m\n\u001b[0;32m----> 1\u001b[0;31m \u001b[0mprint\u001b[0m\u001b[0;34m(\u001b[0m\u001b[0mtype\u001b[0m\u001b[0;34m(\u001b[0m\u001b[0ma\u001b[0m\u001b[0;34m,\u001b[0m\u001b[0mb\u001b[0m\u001b[0;34m,\u001b[0m\u001b[0mc\u001b[0m\u001b[0;34m)\u001b[0m\u001b[0;34m)\u001b[0m \u001b[0;31m# If we try to print 3\u001b[0m\u001b[0;34m\u001b[0m\u001b[0;34m\u001b[0m\u001b[0m\n\u001b[0m",
            "\u001b[0;31mTypeError\u001b[0m: type.__new__() argument 1 must be str, not int"
          ]
        }
      ]
    },
    {
      "cell_type": "markdown",
      "source": [
        "viii)"
      ],
      "metadata": {
        "id": "H8AWIebfxa6a"
      }
    },
    {
      "cell_type": "code",
      "source": [
        "a,b,c = 10 # Can't assign multiple variable with one value so we have t assign three values for it"
      ],
      "metadata": {
        "colab": {
          "base_uri": "https://localhost:8080/",
          "height": 165
        },
        "id": "XP9t9Mz0xXxp",
        "outputId": "361f4471-b8e5-4cc1-d4c8-31043f1ccc38"
      },
      "execution_count": null,
      "outputs": [
        {
          "output_type": "error",
          "ename": "TypeError",
          "evalue": "ignored",
          "traceback": [
            "\u001b[0;31m---------------------------------------------------------------------------\u001b[0m",
            "\u001b[0;31mTypeError\u001b[0m                                 Traceback (most recent call last)",
            "\u001b[0;32m<ipython-input-15-2ddb65653bd1>\u001b[0m in \u001b[0;36m<module>\u001b[0;34m\u001b[0m\n\u001b[0;32m----> 1\u001b[0;31m \u001b[0ma\u001b[0m\u001b[0;34m,\u001b[0m\u001b[0mb\u001b[0m\u001b[0;34m,\u001b[0m\u001b[0mc\u001b[0m \u001b[0;34m=\u001b[0m \u001b[0;36m10\u001b[0m\u001b[0;34m\u001b[0m\u001b[0;34m\u001b[0m\u001b[0m\n\u001b[0m",
            "\u001b[0;31mTypeError\u001b[0m: cannot unpack non-iterable int object"
          ]
        }
      ]
    },
    {
      "cell_type": "markdown",
      "source": [
        "ix)"
      ],
      "metadata": {
        "id": "cwmfvYecyFdI"
      }
    },
    {
      "cell_type": "code",
      "source": [
        "# Calculate the age of the user\n",
        "\n",
        "name = input(\"Name: \") # Always gives you string value\n",
        "place= input(\"Place: \")\n",
        "year_of_birth = input(\"YOB: \") # We have to assign Both year_of_birth and Current_year in Int format\n",
        "weight= input(\"weight: \")\n",
        "\n",
        "current_year=input(\"Current year: \")\n",
        "age=(current_year-year_of_birth)\n",
        "\n",
        "print(f\"\"\"\n",
        "My Name is : {name}\n",
        "I live at : {place}\n",
        "Year of Birth : {year_of_birth}\n",
        "My weight is : {weight}\n",
        "{name} is of age {age}\"\"\")"
      ],
      "metadata": {
        "colab": {
          "base_uri": "https://localhost:8080/",
          "height": 321
        },
        "id": "UhwVYWXSyG2l",
        "outputId": "f18bdc0e-efda-4a69-aed7-07352d32b8ec"
      },
      "execution_count": null,
      "outputs": [
        {
          "name": "stdout",
          "output_type": "stream",
          "text": [
            "Name: RAJAT\n",
            "Place: CUTTACK\n",
            "YOB: 1998\n",
            "weight: 80\n",
            "Current year: 2022\n"
          ]
        },
        {
          "output_type": "error",
          "ename": "TypeError",
          "evalue": "ignored",
          "traceback": [
            "\u001b[0;31m---------------------------------------------------------------------------\u001b[0m",
            "\u001b[0;31mTypeError\u001b[0m                                 Traceback (most recent call last)",
            "\u001b[0;32m<ipython-input-16-c5fb0930f438>\u001b[0m in \u001b[0;36m<module>\u001b[0;34m\u001b[0m\n\u001b[1;32m      7\u001b[0m \u001b[0;34m\u001b[0m\u001b[0m\n\u001b[1;32m      8\u001b[0m \u001b[0mcurrent_year\u001b[0m\u001b[0;34m=\u001b[0m\u001b[0minput\u001b[0m\u001b[0;34m(\u001b[0m\u001b[0;34m\"Current year: \"\u001b[0m\u001b[0;34m)\u001b[0m\u001b[0;34m\u001b[0m\u001b[0;34m\u001b[0m\u001b[0m\n\u001b[0;32m----> 9\u001b[0;31m \u001b[0mage\u001b[0m\u001b[0;34m=\u001b[0m\u001b[0;34m(\u001b[0m\u001b[0mcurrent_year\u001b[0m\u001b[0;34m-\u001b[0m\u001b[0myear_of_birth\u001b[0m\u001b[0;34m)\u001b[0m\u001b[0;34m\u001b[0m\u001b[0;34m\u001b[0m\u001b[0m\n\u001b[0m\u001b[1;32m     10\u001b[0m \u001b[0;34m\u001b[0m\u001b[0m\n\u001b[1;32m     11\u001b[0m print(f\"\"\"\n",
            "\u001b[0;31mTypeError\u001b[0m: unsupported operand type(s) for -: 'str' and 'str'"
          ]
        }
      ]
    },
    {
      "cell_type": "markdown",
      "source": [
        "x)"
      ],
      "metadata": {
        "id": "gu9A8egp0kNW"
      }
    },
    {
      "cell_type": "code",
      "source": [
        "A= int(input(\"Enter the value of A: \")) # we can't assign any other format rather Integer\n",
        "B= float(input(\"Enter the value of B: \")) # we can't assign any other format rather Integer\n",
        "\n",
        "print(f\"Sume of A and B is : {A+B}\")"
      ],
      "metadata": {
        "colab": {
          "base_uri": "https://localhost:8080/",
          "height": 235
        },
        "id": "pANpqL9GyUaW",
        "outputId": "72c708f4-3d6a-4c63-b95a-0410f24f5339"
      },
      "execution_count": null,
      "outputs": [
        {
          "name": "stdout",
          "output_type": "stream",
          "text": [
            "Enter the value of A: 12.2\n"
          ]
        },
        {
          "output_type": "error",
          "ename": "ValueError",
          "evalue": "ignored",
          "traceback": [
            "\u001b[0;31m---------------------------------------------------------------------------\u001b[0m",
            "\u001b[0;31mValueError\u001b[0m                                Traceback (most recent call last)",
            "\u001b[0;32m<ipython-input-18-75abe768c1d0>\u001b[0m in \u001b[0;36m<module>\u001b[0;34m\u001b[0m\n\u001b[0;32m----> 1\u001b[0;31m \u001b[0mA\u001b[0m\u001b[0;34m=\u001b[0m \u001b[0mint\u001b[0m\u001b[0;34m(\u001b[0m\u001b[0minput\u001b[0m\u001b[0;34m(\u001b[0m\u001b[0;34m\"Enter the value of A: \"\u001b[0m\u001b[0;34m)\u001b[0m\u001b[0;34m)\u001b[0m \u001b[0;31m# we can't assign any other format rather Integer\u001b[0m\u001b[0;34m\u001b[0m\u001b[0;34m\u001b[0m\u001b[0m\n\u001b[0m\u001b[1;32m      2\u001b[0m \u001b[0mB\u001b[0m\u001b[0;34m=\u001b[0m \u001b[0mfloat\u001b[0m\u001b[0;34m(\u001b[0m\u001b[0minput\u001b[0m\u001b[0;34m(\u001b[0m\u001b[0;34m\"Enter the value of B: \"\u001b[0m\u001b[0;34m)\u001b[0m\u001b[0;34m)\u001b[0m \u001b[0;31m# we can't assign any other format rather Integer\u001b[0m\u001b[0;34m\u001b[0m\u001b[0;34m\u001b[0m\u001b[0m\n\u001b[1;32m      3\u001b[0m \u001b[0;34m\u001b[0m\u001b[0m\n\u001b[1;32m      4\u001b[0m \u001b[0mprint\u001b[0m\u001b[0;34m(\u001b[0m\u001b[0;34mf\"Sume of A and B is : {A+B}\"\u001b[0m\u001b[0;34m)\u001b[0m\u001b[0;34m\u001b[0m\u001b[0;34m\u001b[0m\u001b[0m\n",
            "\u001b[0;31mValueError\u001b[0m: invalid literal for int() with base 10: '12.2'"
          ]
        }
      ]
    },
    {
      "cell_type": "markdown",
      "source": [
        "xi)"
      ],
      "metadata": {
        "id": "KwNqafe_1bNf"
      }
    },
    {
      "cell_type": "code",
      "source": [
        "# STring to Integer\n",
        "A=\"50.22\" # Passing value inside \"float\" but we ty to convert to Integer which is not possible as \"inside\" must be Integer in thus case\n",
        "print(f\"Data type before : {type(A)}\")\n",
        "A=int(A) # Trying to convert into Integer\n",
        "print(f\"Data type after : {type(A)}\")"
      ],
      "metadata": {
        "colab": {
          "base_uri": "https://localhost:8080/",
          "height": 235
        },
        "id": "isZXyzuM1cYr",
        "outputId": "ce1425fb-7222-4185-abbe-288f511b358e"
      },
      "execution_count": null,
      "outputs": [
        {
          "output_type": "stream",
          "name": "stdout",
          "text": [
            "Data type before : <class 'str'>\n"
          ]
        },
        {
          "output_type": "error",
          "ename": "ValueError",
          "evalue": "ignored",
          "traceback": [
            "\u001b[0;31m---------------------------------------------------------------------------\u001b[0m",
            "\u001b[0;31mValueError\u001b[0m                                Traceback (most recent call last)",
            "\u001b[0;32m<ipython-input-21-2251ceffce8e>\u001b[0m in \u001b[0;36m<module>\u001b[0;34m\u001b[0m\n\u001b[1;32m      2\u001b[0m \u001b[0mA\u001b[0m\u001b[0;34m=\u001b[0m\u001b[0;34m\"50.22\"\u001b[0m \u001b[0;31m# Entering Floating Value\u001b[0m\u001b[0;34m\u001b[0m\u001b[0;34m\u001b[0m\u001b[0m\n\u001b[1;32m      3\u001b[0m \u001b[0mprint\u001b[0m\u001b[0;34m(\u001b[0m\u001b[0;34mf\"Data type before : {type(A)}\"\u001b[0m\u001b[0;34m)\u001b[0m\u001b[0;34m\u001b[0m\u001b[0;34m\u001b[0m\u001b[0m\n\u001b[0;32m----> 4\u001b[0;31m \u001b[0mA\u001b[0m\u001b[0;34m=\u001b[0m\u001b[0mint\u001b[0m\u001b[0;34m(\u001b[0m\u001b[0mA\u001b[0m\u001b[0;34m)\u001b[0m \u001b[0;31m# Trying to convert into Integer\u001b[0m\u001b[0;34m\u001b[0m\u001b[0;34m\u001b[0m\u001b[0m\n\u001b[0m\u001b[1;32m      5\u001b[0m \u001b[0mprint\u001b[0m\u001b[0;34m(\u001b[0m\u001b[0;34mf\"Data type after : {type(A)}\"\u001b[0m\u001b[0;34m)\u001b[0m\u001b[0;34m\u001b[0m\u001b[0;34m\u001b[0m\u001b[0m\n",
            "\u001b[0;31mValueError\u001b[0m: invalid literal for int() with base 10: '50.22'"
          ]
        }
      ]
    },
    {
      "cell_type": "markdown",
      "source": [
        "xii)"
      ],
      "metadata": {
        "id": "_kihqAeN3GSy"
      }
    },
    {
      "cell_type": "code",
      "source": [
        "# String to Boolean\n",
        "A= \"\" # Empty string means \"no value or No Int value\" so It can't convert to Integer\n",
        "print(f\"Data type before : {type(A)}, value of A : {A}\")\n",
        "A=int(A)\n",
        "print(f\"Data type after : {type(A)}, value of A: {A}\")"
      ],
      "metadata": {
        "colab": {
          "base_uri": "https://localhost:8080/",
          "height": 235
        },
        "id": "xHQj65LR3IRX",
        "outputId": "43e63276-8c22-4646-aaa7-29b28c69613c"
      },
      "execution_count": null,
      "outputs": [
        {
          "output_type": "stream",
          "name": "stdout",
          "text": [
            "Data type before : <class 'str'>, value of A : \n"
          ]
        },
        {
          "output_type": "error",
          "ename": "ValueError",
          "evalue": "ignored",
          "traceback": [
            "\u001b[0;31m---------------------------------------------------------------------------\u001b[0m",
            "\u001b[0;31mValueError\u001b[0m                                Traceback (most recent call last)",
            "\u001b[0;32m<ipython-input-22-0b0cd9394464>\u001b[0m in \u001b[0;36m<module>\u001b[0;34m\u001b[0m\n\u001b[1;32m      2\u001b[0m \u001b[0mA\u001b[0m\u001b[0;34m=\u001b[0m \u001b[0;34m\"\"\u001b[0m \u001b[0;31m# Empty string means \"no value or No Int value\" so It can't convert to Integer\u001b[0m\u001b[0;34m\u001b[0m\u001b[0;34m\u001b[0m\u001b[0m\n\u001b[1;32m      3\u001b[0m \u001b[0mprint\u001b[0m\u001b[0;34m(\u001b[0m\u001b[0;34mf\"Data type before : {type(A)}, value of A : {A}\"\u001b[0m\u001b[0;34m)\u001b[0m\u001b[0;34m\u001b[0m\u001b[0;34m\u001b[0m\u001b[0m\n\u001b[0;32m----> 4\u001b[0;31m \u001b[0mA\u001b[0m\u001b[0;34m=\u001b[0m\u001b[0mint\u001b[0m\u001b[0;34m(\u001b[0m\u001b[0mA\u001b[0m\u001b[0;34m)\u001b[0m\u001b[0;34m\u001b[0m\u001b[0;34m\u001b[0m\u001b[0m\n\u001b[0m\u001b[1;32m      5\u001b[0m \u001b[0mprint\u001b[0m\u001b[0;34m(\u001b[0m\u001b[0;34mf\"Data type after : {type(A)}, value of A: {A}\"\u001b[0m\u001b[0;34m)\u001b[0m\u001b[0;34m\u001b[0m\u001b[0;34m\u001b[0m\u001b[0m\n",
            "\u001b[0;31mValueError\u001b[0m: invalid literal for int() with base 10: ''"
          ]
        }
      ]
    },
    {
      "cell_type": "markdown",
      "source": [
        "# 2. Take input A and B and print their sum, mul, div, square of the nos."
      ],
      "metadata": {
        "id": "kbApQGUT3oHZ"
      }
    },
    {
      "cell_type": "markdown",
      "source": [
        "SUM"
      ],
      "metadata": {
        "id": "Rev9CAaG6hFV"
      }
    },
    {
      "cell_type": "code",
      "source": [
        "A= int(input(\"Enter the value of A:\"))\n",
        "B= int(input(\"Enter the value of B:\"))\n",
        "\n",
        "print(f\"Sum of the two nums: {A+B}\")"
      ],
      "metadata": {
        "colab": {
          "base_uri": "https://localhost:8080/"
        },
        "id": "KZpwWOVD3rdw",
        "outputId": "3e730fa9-badf-4fe6-9896-8cf2071a80de"
      },
      "execution_count": null,
      "outputs": [
        {
          "output_type": "stream",
          "name": "stdout",
          "text": [
            "Enter the value of A:12\n",
            "Enter the value of B:20\n",
            "Sum of the two nums: 32\n"
          ]
        }
      ]
    },
    {
      "cell_type": "code",
      "source": [
        "A= int(input(\"Enter the value of A:\"))\n",
        "B= float(input(\"Enter the value of B:\"))\n",
        "\n",
        "print(f\"Sum of the two nums: {A+B}\")"
      ],
      "metadata": {
        "colab": {
          "base_uri": "https://localhost:8080/"
        },
        "id": "6I0wuCeh6Qw3",
        "outputId": "05d76b43-e3d0-4b0c-ced6-53c853b905a2"
      },
      "execution_count": null,
      "outputs": [
        {
          "output_type": "stream",
          "name": "stdout",
          "text": [
            "Enter the value of A:12\n",
            "Enter the value of B:20.2\n",
            "Sum of the two nums: 32.2\n"
          ]
        }
      ]
    },
    {
      "cell_type": "code",
      "source": [
        "A= float(input(\"Enter the value of A:\"))\n",
        "B= int(input(\"Enter the value of B:\"))\n",
        "\n",
        "print(f\"Sum of the two nums: {A+B}\")"
      ],
      "metadata": {
        "colab": {
          "base_uri": "https://localhost:8080/"
        },
        "id": "I6lRD_8O6Z2H",
        "outputId": "b50dad80-ba0c-450a-939c-385061c17ee4"
      },
      "execution_count": null,
      "outputs": [
        {
          "output_type": "stream",
          "name": "stdout",
          "text": [
            "Enter the value of A:20.2\n",
            "Enter the value of B:12\n",
            "Sum of the two nums: 32.2\n"
          ]
        }
      ]
    },
    {
      "cell_type": "code",
      "source": [
        "A= int(input(\"Enter the value of A:\"))\n",
        "B= complex(input(\"Enter the value of B:\"))\n",
        "\n",
        "print(f\"Sum of the two nums: {A+B}\")"
      ],
      "metadata": {
        "colab": {
          "base_uri": "https://localhost:8080/"
        },
        "id": "gcpNRE268Plx",
        "outputId": "990dde41-8c30-45ea-c861-55c9e5b3cc0d"
      },
      "execution_count": null,
      "outputs": [
        {
          "output_type": "stream",
          "name": "stdout",
          "text": [
            "Enter the value of A:1\n",
            "Enter the value of B:2+3j\n",
            "Sum of the two nums: (3+3j)\n"
          ]
        }
      ]
    },
    {
      "cell_type": "markdown",
      "source": [
        "MULTIPLY"
      ],
      "metadata": {
        "id": "nD9GUDok6jfZ"
      }
    },
    {
      "cell_type": "code",
      "source": [
        "A= int(input(\"Enter the value of A:\"))\n",
        "B= int(input(\"Enter the value of B:\"))\n",
        "\n",
        "print(f\"Sum of the two nums: {A*B}\")"
      ],
      "metadata": {
        "colab": {
          "base_uri": "https://localhost:8080/"
        },
        "id": "LIz0KC8R6qkv",
        "outputId": "e8015827-5bae-4a97-faa5-4c1fd4034423"
      },
      "execution_count": null,
      "outputs": [
        {
          "output_type": "stream",
          "name": "stdout",
          "text": [
            "Enter the value of A:12\n",
            "Enter the value of B:10\n",
            "Sum of the two nums: 120\n"
          ]
        }
      ]
    },
    {
      "cell_type": "code",
      "source": [
        "A= int(input(\"Enter the value of A:\"))\n",
        "B= float(input(\"Enter the value of B:\"))\n",
        "\n",
        "print(f\"Sum of the two nums: {A*B}\")"
      ],
      "metadata": {
        "colab": {
          "base_uri": "https://localhost:8080/"
        },
        "id": "I6vH_W_i6-Lh",
        "outputId": "9d21e662-b2d8-40b8-bee1-d5bcee70a89c"
      },
      "execution_count": null,
      "outputs": [
        {
          "output_type": "stream",
          "name": "stdout",
          "text": [
            "Enter the value of A:12\n",
            "Enter the value of B:10.2\n",
            "Sum of the two nums: 122.39999999999999\n"
          ]
        }
      ]
    },
    {
      "cell_type": "code",
      "source": [
        "A= float(input(\"Enter the value of A:\"))\n",
        "B= int(input(\"Enter the value of B:\"))\n",
        "\n",
        "print(f\"Sum of the two nums: {A*B}\")"
      ],
      "metadata": {
        "colab": {
          "base_uri": "https://localhost:8080/"
        },
        "id": "poM3ju_57He2",
        "outputId": "2615cfec-74be-40b1-ea49-3ac6ad595300"
      },
      "execution_count": null,
      "outputs": [
        {
          "output_type": "stream",
          "name": "stdout",
          "text": [
            "Enter the value of A:10.2\n",
            "Enter the value of B:12\n",
            "Sum of the two nums: 122.39999999999999\n"
          ]
        }
      ]
    },
    {
      "cell_type": "code",
      "source": [
        "A= int(input(\"Enter the value of A:\"))\n",
        "B= complex(input(\"Enter the value of B:\"))\n",
        "\n",
        "print(f\"Sum of the two nums: {A*B}\")"
      ],
      "metadata": {
        "colab": {
          "base_uri": "https://localhost:8080/"
        },
        "id": "61XXrTJg8n13",
        "outputId": "c16930fa-5e69-4a5c-d11a-bc275534cadc"
      },
      "execution_count": null,
      "outputs": [
        {
          "output_type": "stream",
          "name": "stdout",
          "text": [
            "Enter the value of A:2\n",
            "Enter the value of B:1+2j\n",
            "Sum of the two nums: (2+4j)\n"
          ]
        }
      ]
    },
    {
      "cell_type": "markdown",
      "source": [
        "DIVIDE"
      ],
      "metadata": {
        "id": "U8zcJNeQ7XiE"
      }
    },
    {
      "cell_type": "code",
      "source": [
        "A= int(input(\"Enter the value of A:\"))\n",
        "B= int(input(\"Enter the value of B:\"))\n",
        "\n",
        "print(f\"Sum of the two nums: {A/B}\")"
      ],
      "metadata": {
        "colab": {
          "base_uri": "https://localhost:8080/"
        },
        "id": "677UlBmw7Zmz",
        "outputId": "64a7762b-9d72-432c-cb15-21569d4f1a34"
      },
      "execution_count": null,
      "outputs": [
        {
          "output_type": "stream",
          "name": "stdout",
          "text": [
            "Enter the value of A:12\n",
            "Enter the value of B:10\n",
            "Sum of the two nums: 1.2\n"
          ]
        }
      ]
    },
    {
      "cell_type": "code",
      "source": [
        "A= int(input(\"Enter the value of A:\"))\n",
        "B= float(input(\"Enter the value of B:\"))\n",
        "\n",
        "print(f\"Sum of the two nums: {A/B}\")"
      ],
      "metadata": {
        "colab": {
          "base_uri": "https://localhost:8080/"
        },
        "id": "Pvh-wdh_7egO",
        "outputId": "d21ca7bb-1067-4228-f978-ad5c6193b874"
      },
      "execution_count": null,
      "outputs": [
        {
          "output_type": "stream",
          "name": "stdout",
          "text": [
            "Enter the value of A:12\n",
            "Enter the value of B:10.2\n",
            "Sum of the two nums: 1.1764705882352942\n"
          ]
        }
      ]
    },
    {
      "cell_type": "code",
      "source": [
        "A= float(input(\"Enter the value of A:\"))\n",
        "B= int(input(\"Enter the value of B:\"))\n",
        "\n",
        "print(f\"Sum of the two nums: {A/B}\")"
      ],
      "metadata": {
        "colab": {
          "base_uri": "https://localhost:8080/"
        },
        "id": "Wyi0OY_p7pyr",
        "outputId": "0546b366-de00-46ab-c5dc-ccca538efdbd"
      },
      "execution_count": null,
      "outputs": [
        {
          "output_type": "stream",
          "name": "stdout",
          "text": [
            "Enter the value of A:12.2\n",
            "Enter the value of B:10\n",
            "Sum of the two nums: 1.22\n"
          ]
        }
      ]
    },
    {
      "cell_type": "code",
      "source": [
        "A= int(input(\"Enter the value of A:\"))\n",
        "B= complex(input(\"Enter the value of B:\"))\n",
        "\n",
        "print(f\"Sum of the two nums: {A/B}\")"
      ],
      "metadata": {
        "colab": {
          "base_uri": "https://localhost:8080/"
        },
        "id": "7u2pQoas8u84",
        "outputId": "add5d61f-1d51-4c14-cecf-11331dc98bfe"
      },
      "execution_count": null,
      "outputs": [
        {
          "output_type": "stream",
          "name": "stdout",
          "text": [
            "Enter the value of A:2\n",
            "Enter the value of B:2+2j\n",
            "Sum of the two nums: (0.5-0.5j)\n"
          ]
        }
      ]
    },
    {
      "cell_type": "markdown",
      "source": [
        "SQUARE OF NOs"
      ],
      "metadata": {
        "id": "9XfOLwIc7zDh"
      }
    },
    {
      "cell_type": "code",
      "source": [
        "A= int(input(\"Enter the value of A:\"))\n",
        "B= int(input(\"Enter the value of B:\"))\n",
        "\n",
        "print(f\"Sum of the two nums: {A**B}\")"
      ],
      "metadata": {
        "colab": {
          "base_uri": "https://localhost:8080/"
        },
        "id": "fWlhe6j571qL",
        "outputId": "1e2eb36b-b6d3-4907-ce85-07a8d03c7f08"
      },
      "execution_count": null,
      "outputs": [
        {
          "output_type": "stream",
          "name": "stdout",
          "text": [
            "Enter the value of A:12\n",
            "Enter the value of B:2\n",
            "Sum of the two nums: 144\n"
          ]
        }
      ]
    },
    {
      "cell_type": "code",
      "source": [
        "A= int(input(\"Enter the value of A:\"))\n",
        "B= float(input(\"Enter the value of B:\"))\n",
        "\n",
        "print(f\"Sum of the two nums: {A**B}\")"
      ],
      "metadata": {
        "colab": {
          "base_uri": "https://localhost:8080/"
        },
        "id": "cLzMMB3j759z",
        "outputId": "7e0daff7-56ca-42c6-c813-cc033650f7d2"
      },
      "execution_count": null,
      "outputs": [
        {
          "output_type": "stream",
          "name": "stdout",
          "text": [
            "Enter the value of A:12\n",
            "Enter the value of B:2.5\n",
            "Sum of the two nums: 498.8306325798367\n"
          ]
        }
      ]
    },
    {
      "cell_type": "code",
      "source": [
        "A= float(input(\"Enter the value of A:\"))\n",
        "B= int(input(\"Enter the value of B:\"))\n",
        "\n",
        "print(f\"Sum of the two nums: {A**B}\")"
      ],
      "metadata": {
        "colab": {
          "base_uri": "https://localhost:8080/"
        },
        "id": "u6AoYSWO8Fd9",
        "outputId": "5ab070ed-42af-4d95-cbb9-eb8424175d4f"
      },
      "execution_count": null,
      "outputs": [
        {
          "output_type": "stream",
          "name": "stdout",
          "text": [
            "Enter the value of A:12.2\n",
            "Enter the value of B:10\n",
            "Sum of the two nums: 73046314154.27913\n"
          ]
        }
      ]
    },
    {
      "cell_type": "code",
      "source": [
        "A= int(input(\"Enter the value of A:\"))\n",
        "B= complex(input(\"Enter the value of B:\"))\n",
        "\n",
        "print(f\"Sum of the two nums: {B**A}\")"
      ],
      "metadata": {
        "colab": {
          "base_uri": "https://localhost:8080/"
        },
        "id": "rA9MbAc182dH",
        "outputId": "b5d35604-2acd-4911-b648-07f7b6d853d3"
      },
      "execution_count": null,
      "outputs": [
        {
          "output_type": "stream",
          "name": "stdout",
          "text": [
            "Enter the value of A:2\n",
            "Enter the value of B:1+2j\n",
            "Sum of the two nums: (-3+4j)\n"
          ]
        }
      ]
    },
    {
      "cell_type": "markdown",
      "source": [
        "# 3. How many reserve keywords are there in python and why we should not use them as a variable name.\n",
        "answer :\n",
        "\n",
        "and       del       from      not       while    \n",
        "as        elif      global    or        with     \n",
        "assert    else      if        pass      yield    \n",
        "break     except    import    print              \n",
        "class     exec      in        raise              \n",
        "continue  finally   is        return             \n",
        "def       for       lambda    try\n",
        "\n",
        "In Python, keywords are case sensitive. There are 33 keywords in Python. This number can vary slightly over the course of time. All the keywords except True , False and None are in lowercase and they must be written as they are.\n",
        "\n",
        "1. We should not use reserved words as variable names\n",
        "2. Also python doesn't restrict the user to use reserved keywords as variable names\n",
        " If we try to change the keywords then they will not work as they were before.\n",
        "To reuse them try to restart the run time or delete the present changed keywords.\n"
      ],
      "metadata": {
        "id": "KU6HDyifFXri"
      }
    },
    {
      "cell_type": "code",
      "source": [
        "# Example \n",
        "print = \"Hi there\" # as a variable\n",
        "type(print)"
      ],
      "metadata": {
        "colab": {
          "base_uri": "https://localhost:8080/"
        },
        "id": "IAl98dX_FdMy",
        "outputId": "a2991704-2eba-400b-a96c-4ed9cd027527"
      },
      "execution_count": null,
      "outputs": [
        {
          "output_type": "execute_result",
          "data": {
            "text/plain": [
              "str"
            ]
          },
          "metadata": {},
          "execution_count": 50
        }
      ]
    },
    {
      "cell_type": "code",
      "source": [
        "print(\"Hi there\") # unable to operate as print already assigned as string "
      ],
      "metadata": {
        "colab": {
          "base_uri": "https://localhost:8080/",
          "height": 165
        },
        "id": "UMuCvjCHH8WW",
        "outputId": "56e64214-e2ce-4d0c-def1-dcfcfcc8ee68"
      },
      "execution_count": null,
      "outputs": [
        {
          "output_type": "error",
          "ename": "TypeError",
          "evalue": "ignored",
          "traceback": [
            "\u001b[0;31m---------------------------------------------------------------------------\u001b[0m",
            "\u001b[0;31mTypeError\u001b[0m                                 Traceback (most recent call last)",
            "\u001b[0;32m<ipython-input-47-67ee3d3b1c34>\u001b[0m in \u001b[0;36m<module>\u001b[0;34m\u001b[0m\n\u001b[0;32m----> 1\u001b[0;31m \u001b[0mprint\u001b[0m\u001b[0;34m(\u001b[0m\u001b[0;34m\"Hi there\"\u001b[0m\u001b[0;34m)\u001b[0m\u001b[0;34m\u001b[0m\u001b[0;34m\u001b[0m\u001b[0m\n\u001b[0m",
            "\u001b[0;31mTypeError\u001b[0m: 'str' object is not callable"
          ]
        }
      ]
    },
    {
      "cell_type": "code",
      "source": [
        "# to reuse the keyword print, delete the changed keyword \n",
        "del print"
      ],
      "metadata": {
        "id": "EM505pEsIIS4"
      },
      "execution_count": null,
      "outputs": []
    },
    {
      "cell_type": "code",
      "source": [
        "print(\"Hi there\")"
      ],
      "metadata": {
        "colab": {
          "base_uri": "https://localhost:8080/"
        },
        "id": "qe8sKsQcITi0",
        "outputId": "d2762222-4bd0-4e76-8446-c7677841b323"
      },
      "execution_count": null,
      "outputs": [
        {
          "output_type": "stream",
          "name": "stdout",
          "text": [
            "Hi there\n"
          ]
        }
      ]
    },
    {
      "cell_type": "markdown",
      "source": [
        "# 4. Create email ids with the user inputs. in the following format - lastname.firstname@gmail.com\n"
      ],
      "metadata": {
        "id": "_pzCEyGUIfJj"
      }
    },
    {
      "cell_type": "code",
      "source": [
        "firstname=input(\"Enter your First Name: \")\n",
        "lastname=input(\"Enter your Last Name: \")\n",
        "\n",
        "print(f\"Your Email Id is: {lastname}.{firstname}@gmail.com\")"
      ],
      "metadata": {
        "colab": {
          "base_uri": "https://localhost:8080/"
        },
        "id": "RvPBjmSXIbhu",
        "outputId": "5e620483-e182-40ee-c3b7-ce945221d251"
      },
      "execution_count": null,
      "outputs": [
        {
          "output_type": "stream",
          "name": "stdout",
          "text": [
            "Enter your First Name: rajat\n",
            "Enter your Last Name: bisoe\n",
            "Your Email Id is: bisoe.rajat@gmail.com\n"
          ]
        }
      ]
    },
    {
      "cell_type": "markdown",
      "source": [
        "# 5. Try to print the following lines -\n",
        "  - Hi I'm Sunny\n",
        "  - My address is 22\\3 \n",
        "  - I earn 20$ daily."
      ],
      "metadata": {
        "id": "BYpnDBz7JXB8"
      }
    },
    {
      "cell_type": "code",
      "source": [
        "name= input(\"Enter your name:\")\n",
        "address = input(\"Enter your address:\")\n",
        "salary = input(\"Enter your salary:\")\n",
        "\n",
        "print(f\"\"\"\n",
        "      Hi, I'm {name}\n",
        "      My address is {address}\n",
        "      I earn {salary} daily\n",
        "      \"\"\")"
      ],
      "metadata": {
        "colab": {
          "base_uri": "https://localhost:8080/"
        },
        "id": "ilR5Ub7_JavY",
        "outputId": "035bbabd-db51-4aa7-ffbb-ccb8d28c23a8"
      },
      "execution_count": null,
      "outputs": [
        {
          "output_type": "stream",
          "name": "stdout",
          "text": [
            "Enter your name:Sunny\n",
            "Enter your address:22/3\n",
            "Enter your salary:20$\n",
            "\n",
            "      Hi, I'm Sunny\n",
            "      My address is 22/3\n",
            "      I earn 20$ daily\n",
            "      \n"
          ]
        }
      ]
    },
    {
      "cell_type": "markdown",
      "source": [
        "# 6. Take user input (name, address, date of birth etc) to fill a form for your college and print their email IDs"
      ],
      "metadata": {
        "id": "clpM2j5QKvHU"
      }
    },
    {
      "cell_type": "code",
      "source": [
        "name= input(\"Enter your name:\")\n",
        "address = input(\"Enter your address:\")\n",
        "DOB = input(\"Enter your date of birth:\")\n",
        "\n",
        "print(f\"\"\"\n",
        "      Hi, I'm {name}\n",
        "      My address is {address}\n",
        "      I earn {salary} daily\n",
        "      Your Email Id is: {name}@gmail.com\n",
        "      \"\"\")"
      ],
      "metadata": {
        "colab": {
          "base_uri": "https://localhost:8080/"
        },
        "id": "3qrq_8yIKxuF",
        "outputId": "89b63c4b-5884-492c-dd28-60a419003b99"
      },
      "execution_count": null,
      "outputs": [
        {
          "output_type": "stream",
          "name": "stdout",
          "text": [
            "Enter your name:rajat_bisoe\n",
            "Enter your address:cuttack\n",
            "Enter your date of birth:18.05.1998\n",
            "\n",
            "      Hi, I'm rajat_bisoe\n",
            "      My address is cuttack\n",
            "      I earn 20$ daily\n",
            "      Your Email Id is: rajat_bisoe@gmail.com\n",
            "      \n"
          ]
        }
      ]
    },
    {
      "cell_type": "markdown",
      "source": [
        "# 7. Convert the following - \n",
        "  - \"22.4\" into integer\n",
        "  - \"22\" into complex no.\n"
      ],
      "metadata": {
        "id": "659VIlm4Lh2c"
      }
    },
    {
      "cell_type": "code",
      "source": [
        "num1 = \"22.4\"\n",
        "print(f\"Data type before : {type(num1)}\")\n",
        "\n",
        "num1= float(num1) #converting string to float as \"inside\"- is in float , we can't change directly to Integer\n",
        "print(f\"Data type after : {type(num1)}\")\n",
        "\n",
        "num1=int(num1) # converting float to Integer\n",
        "print(f\"Data type after : {type(num1)}\")\n",
        "\n",
        "print(num1)"
      ],
      "metadata": {
        "colab": {
          "base_uri": "https://localhost:8080/"
        },
        "id": "mowdGD0TLk36",
        "outputId": "67aa8862-87a4-4005-dd63-21937fca6c1a"
      },
      "execution_count": null,
      "outputs": [
        {
          "output_type": "stream",
          "name": "stdout",
          "text": [
            "Data type before : <class 'str'>\n",
            "Data type after : <class 'float'>\n",
            "Data type after : <class 'int'>\n",
            "22\n"
          ]
        }
      ]
    },
    {
      "cell_type": "code",
      "source": [
        "num1 = \"22\"\n",
        "print(f\"Data type before : {type(num1)}\")\n",
        "\n",
        "num1=complex(num1) # converting Integer to complex\n",
        "print(f\"Data type after : {type(num1)}\")\n",
        "\n",
        "print(num1)"
      ],
      "metadata": {
        "colab": {
          "base_uri": "https://localhost:8080/"
        },
        "id": "gznP7vWpNC1u",
        "outputId": "e2e3d4ca-9320-412d-b57c-455913cf6bb1"
      },
      "execution_count": null,
      "outputs": [
        {
          "output_type": "stream",
          "name": "stdout",
          "text": [
            "Data type before : <class 'str'>\n",
            "Data type after : <class 'complex'>\n",
            "(22+0j)\n"
          ]
        }
      ]
    }
  ]
}