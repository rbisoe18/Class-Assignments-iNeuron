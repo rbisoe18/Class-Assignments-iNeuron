{
  "nbformat": 4,
  "nbformat_minor": 0,
  "metadata": {
    "colab": {
      "provenance": [],
      "collapsed_sections": []
    },
    "kernelspec": {
      "name": "python3",
      "display_name": "Python 3"
    },
    "language_info": {
      "name": "python"
    }
  },
  "cells": [
    {
      "cell_type": "markdown",
      "source": [
        "## Python String Manipulation\n",
        "\n",
        "1. Count the number of times `iNeuron` appears in the string.\n",
        "```python\n",
        "text = \"Welcome to iNeuron, You are a part of FSDS Bootcamp 2 in iNeuron. I hope you are enjoying the course by iNeuron\"\n",
        "```"
      ],
      "metadata": {
        "id": "laNDpjifpb29"
      }
    },
    {
      "cell_type": "markdown",
      "source": [
        "Ans:"
      ],
      "metadata": {
        "id": "QbWbzbuOpflK"
      }
    },
    {
      "cell_type": "code",
      "execution_count": null,
      "metadata": {
        "colab": {
          "base_uri": "https://localhost:8080/"
        },
        "id": "Dxc3v7IypPtC",
        "outputId": "d2984891-5cb8-4293-cc27-b74ef1213d31"
      },
      "outputs": [
        {
          "output_type": "execute_result",
          "data": {
            "text/plain": [
              "3"
            ]
          },
          "metadata": {},
          "execution_count": 2
        }
      ],
      "source": [
        "text = \"Welcome to iNeuron, You are a part of FSDS Bootcamp 2 in iNeuron. I hope you are enjoying the course by iNeuron\"\n",
        "text.count(\"iNeuron\") # ans = 3"
      ]
    },
    {
      "cell_type": "markdown",
      "source": [
        "2. Check if position `5` to `11` ends with the phrase `iNeuron.` in the string \n",
        "```python\n",
        "txt = \"Hello, welcome to FSDS 2.0 at iNeuron.\"\n",
        "```"
      ],
      "metadata": {
        "id": "c-mdENWUqsgE"
      }
    },
    {
      "cell_type": "markdown",
      "source": [
        "Ans:"
      ],
      "metadata": {
        "id": "TEUkmuQIwhZf"
      }
    },
    {
      "cell_type": "code",
      "source": [
        "text[5:11].endswith(\"iNeuron\")"
      ],
      "metadata": {
        "colab": {
          "base_uri": "https://localhost:8080/"
        },
        "id": "zR6MVtXcqGx6",
        "outputId": "387ffecd-a800-42fb-cf17-5616015d305b"
      },
      "execution_count": null,
      "outputs": [
        {
          "output_type": "execute_result",
          "data": {
            "text/plain": [
              "False"
            ]
          },
          "metadata": {},
          "execution_count": 3
        }
      ]
    },
    {
      "cell_type": "markdown",
      "source": [
        "3. Write a program that takes your full name as input and displays the abbreviations of the first and middle names except the last name which is displayed as it is. For example, if your name is Sunny Bhaveen Chandra, then the output should be S.B.Chandra.\n"
      ],
      "metadata": {
        "id": "NUSedJSuw9LB"
      }
    },
    {
      "cell_type": "markdown",
      "source": [
        "Ans:"
      ],
      "metadata": {
        "id": "ROo1JmEWz-q2"
      }
    },
    {
      "cell_type": "code",
      "source": [
        "name = input(\"Enter Your Name: \")\n",
        "\n",
        "if name.istitle():\n",
        "  print(f\"user has given correct input\")\n",
        "else:\n",
        "  print(f\"wrong input we need to autocorrect it\")\n",
        "  name = name.title()\n",
        "  print(f\"Correct output: {name}\")\n",
        "\n",
        "\n",
        "print(f\"\"\"\n",
        "First name: {first_name}\n",
        "Middle name: {middle_name}\n",
        "Sir name: {sir_name}\n",
        "\"\"\")\n",
        "\n",
        "first_name, middle_name, sir_name = name.split(\" \")\n",
        "\n",
        "f=first_name[0]\n",
        "m=middle_name[0]\n",
        "\n",
        "print(\"--------------\")\n",
        "print(f\"Your Name will be: {f}.{m}.{sir_name} \")"
      ],
      "metadata": {
        "colab": {
          "base_uri": "https://localhost:8080/"
        },
        "id": "wTitMa2NxCN8",
        "outputId": "764f0cee-fa14-4ab4-c6eb-20042213b190"
      },
      "execution_count": null,
      "outputs": [
        {
          "output_type": "stream",
          "name": "stdout",
          "text": [
            "Enter Your Name: sunny bhaveen chandra\n",
            "wrong input we need to autocorrect it\n",
            "Correct output: Sunny Bhaveen Chandra\n",
            "\n",
            "First name: Sunny\n",
            "Middle name: Bhaveen\n",
            "Sir name: Chandra\n",
            "\n",
            "--------------\n",
            "Your Name will be: S.B.Chandra \n"
          ]
        }
      ]
    },
    {
      "cell_type": "markdown",
      "source": [
        "4. Join all items in a list into a string, using a hash(`#`) character as separator:\n",
        "```python\n",
        "LIST = [\"My\", \"name\", \"is\", \"Rishav\", \"Dash\"]\n",
        "```"
      ],
      "metadata": {
        "id": "KjwiI95XzeLw"
      }
    },
    {
      "cell_type": "markdown",
      "source": [
        "Ans:"
      ],
      "metadata": {
        "id": "ifwK0LE10Ave"
      }
    },
    {
      "cell_type": "code",
      "source": [
        "LIST = [\"My\", \"name\", \"is\", \"Rishav\", \"Dash\"]\n",
        "a = str(LIST)\n",
        "a = a.replace(',', '#')\n",
        "print(a) "
      ],
      "metadata": {
        "colab": {
          "base_uri": "https://localhost:8080/"
        },
        "id": "8qNWVfCS5Xf0",
        "outputId": "495fccb9-349d-45a5-bd8f-bfcf0e2bd21e"
      },
      "execution_count": null,
      "outputs": [
        {
          "output_type": "stream",
          "name": "stdout",
          "text": [
            "['My'# 'name'# 'is'# 'Rishav'# 'Dash']\n"
          ]
        }
      ]
    },
    {
      "cell_type": "markdown",
      "source": [
        "5. Write example for the following string manipulation function,\n",
        "\n",
        "  ```\n",
        "  - isdecimal()\n",
        "  - islower()\n",
        "  - isupper()\n",
        "  - isalpha()\n",
        "  - isnumeric()\n",
        "\n",
        "  ```"
      ],
      "metadata": {
        "id": "ZLIdRpYQ7HaC"
      }
    },
    {
      "cell_type": "markdown",
      "source": [
        "Ans:"
      ],
      "metadata": {
        "id": "RjGFBKTV7TP6"
      }
    },
    {
      "cell_type": "markdown",
      "source": [
        "for\n",
        " ```\n",
        "  - isdecimal()\n",
        "```"
      ],
      "metadata": {
        "id": "9vSv5SPp7VEi"
      }
    },
    {
      "cell_type": "markdown",
      "source": [
        "Ans:"
      ],
      "metadata": {
        "id": "7QBJnKNTDaTt"
      }
    },
    {
      "cell_type": "code",
      "source": [
        "a = input(\"Enter the value: \")\n",
        "\n",
        "print(f\"value in decimal case: {a.isdecimal()}\")"
      ],
      "metadata": {
        "colab": {
          "base_uri": "https://localhost:8080/"
        },
        "id": "wRnLIht27OrK",
        "outputId": "5b1a91e8-9cf4-49b5-a633-e2e507bc14a7"
      },
      "execution_count": null,
      "outputs": [
        {
          "output_type": "stream",
          "name": "stdout",
          "text": [
            "Enter the value: 10.23\n",
            "value in decimal case: False\n"
          ]
        }
      ]
    },
    {
      "cell_type": "code",
      "source": [
        "a = input(\"Enter the value: \")\n",
        "\n",
        "print(f\"value in decimal case: {a.isdecimal()}\")"
      ],
      "metadata": {
        "colab": {
          "base_uri": "https://localhost:8080/"
        },
        "id": "bJMy_dyMBGQv",
        "outputId": "6d5a1efc-3920-460a-acbb-d9200b332887"
      },
      "execution_count": null,
      "outputs": [
        {
          "output_type": "stream",
          "name": "stdout",
          "text": [
            "Enter the value: 10\n",
            "value in decimal case: True\n"
          ]
        }
      ]
    },
    {
      "cell_type": "code",
      "source": [
        "a = input(\"Enter the value: \")\n",
        "\n",
        "print(f\"value in decimal case: {a.isdecimal()}\")"
      ],
      "metadata": {
        "colab": {
          "base_uri": "https://localhost:8080/"
        },
        "id": "_obQlN0lBJPo",
        "outputId": "1abef1e4-1802-4a6a-a426-ceeced2e2529"
      },
      "execution_count": null,
      "outputs": [
        {
          "output_type": "stream",
          "name": "stdout",
          "text": [
            "Enter the value: 1234\n",
            "value in decimal case:True\n"
          ]
        }
      ]
    },
    {
      "cell_type": "markdown",
      "source": [
        "for\n",
        " ```\n",
        " - islower()\n",
        " - isupper()\n",
        " - isalpha()\n",
        " - isnumeric()\n",
        "```"
      ],
      "metadata": {
        "id": "nTnvZ8ZkDSDu"
      }
    },
    {
      "cell_type": "code",
      "source": [
        "name = input(\"Enter your name: \")\n",
        "\n",
        "print(f\"user input: {name}\")\n",
        "print(f\"name in lower case: {name.islower()}\")\n",
        "print(f\"name in upper case: {name.isupper()}\")\n",
        "print(f\"name in alphaet case: {name.isalpha()}\")\n",
        "print(f\"name in numeric case: {name.isnumeric()}\")"
      ],
      "metadata": {
        "colab": {
          "base_uri": "https://localhost:8080/"
        },
        "id": "AXd_6PfLDYYn",
        "outputId": "222c2537-a334-4e8b-81a4-b77b095dabf4"
      },
      "execution_count": null,
      "outputs": [
        {
          "output_type": "stream",
          "name": "stdout",
          "text": [
            "Enter your name: rajat\n",
            "user input: rajat\n",
            "name in lower case: True\n",
            "name in upper case: False\n",
            "name in alphaet case: True\n",
            "name in numeric case: False\n"
          ]
        }
      ]
    },
    {
      "cell_type": "code",
      "source": [
        "name = input(\"Enter your name: \")\n",
        "\n",
        "print(f\"user input: {name}\")\n",
        "print(f\"name in lower case: {name.islower()}\")\n",
        "print(f\"name in upper case: {name.isupper()}\")\n",
        "print(f\"name in alphaet case: {name.isalpha()}\")\n",
        "print(f\"name in numeric case: {name.isnumeric()}\")"
      ],
      "metadata": {
        "colab": {
          "base_uri": "https://localhost:8080/"
        },
        "id": "fJpdwr7zFDW1",
        "outputId": "b1369fb2-2b41-4168-9a9b-bdbbd8e6f413"
      },
      "execution_count": null,
      "outputs": [
        {
          "output_type": "stream",
          "name": "stdout",
          "text": [
            "Enter your name: RAJAT\n",
            "user input: RAJAT\n",
            "name in lower case: False\n",
            "name in upper case: True\n",
            "name in alphaet case: True\n",
            "name in numeric case: False\n"
          ]
        }
      ]
    },
    {
      "cell_type": "code",
      "source": [
        "name = input(\"Enter your name: \")\n",
        "\n",
        "print(f\"user input: {name}\")\n",
        "print(f\"name in lower case: {name.islower()}\")\n",
        "print(f\"name in upper case: {name.isupper()}\")\n",
        "print(f\"name in alphaet case: {name.isalpha()}\")\n",
        "print(f\"name in numeric case: {name.isnumeric()}\")"
      ],
      "metadata": {
        "colab": {
          "base_uri": "https://localhost:8080/"
        },
        "id": "R4plsgSBE129",
        "outputId": "988dc3f5-592c-4cf9-d7d8-3fd545e43e54"
      },
      "execution_count": null,
      "outputs": [
        {
          "output_type": "stream",
          "name": "stdout",
          "text": [
            "Enter your name: rajat123\n",
            "user input: rajat123\n",
            "name in lower case: True\n",
            "name in upper case: False\n",
            "name in alphaet case: False\n",
            "name in numeric case: False\n"
          ]
        }
      ]
    },
    {
      "cell_type": "code",
      "source": [
        "name = input(\"Enter your name: \")\n",
        "\n",
        "print(f\"user input: {name}\")\n",
        "print(f\"name in lower case: {name.islower()}\")\n",
        "print(f\"name in upper case: {name.isupper()}\")\n",
        "print(f\"name in alphaet case: {name.isalpha()}\")\n",
        "print(f\"name in numeric case: {name.isnumeric()}\") "
      ],
      "metadata": {
        "colab": {
          "base_uri": "https://localhost:8080/"
        },
        "id": "OTnEfSWqE6Nv",
        "outputId": "e5978642-5b5d-4db3-82c4-31e7b2b24ea3"
      },
      "execution_count": null,
      "outputs": [
        {
          "output_type": "stream",
          "name": "stdout",
          "text": [
            "Enter your name: 123456\n",
            "user input: 123456\n",
            "name in lower case: False\n",
            "name in upper case: False\n",
            "name in alphaet case: False\n",
            "name in numeric case: True\n"
          ]
        }
      ]
    },
    {
      "cell_type": "markdown",
      "source": [
        "6. Indian PAN card format follows the following formats - \n",
        "    - `AYEPC7894X`\n",
        "    - `ABCDE9999Y`\n",
        "  Take user input for PAN_CARD and validate as per the above example."
      ],
      "metadata": {
        "id": "E7s_qqgxL73K"
      }
    },
    {
      "cell_type": "markdown",
      "source": [
        "Ans:"
      ],
      "metadata": {
        "id": "gOE6OfstL-gx"
      }
    },
    {
      "cell_type": "code",
      "source": [
        "PAN_CARD = input(\"Enter user's Pan Card: \")\n",
        "p= PAN_CARD.upper()\n",
        "if PAN_CARD.isalpha() == True or PAN_CARD.isnumeric() == True:\n",
        "  print(f\"User's Pan Card is not valid\")\n",
        "  print(\"Re-Enter User's Pan Card\")\n",
        "elif PAN_CARD.isupper() == True and PAN_CARD.isalnum() == True:\n",
        "    print(f\"User's Pan Card is valid\")\n",
        "else:\n",
        "  print(f\"User's Pan Card after verification: {p}\")\n",
        "  print(f\"User's Pan Card is now acceptable\")"
      ],
      "metadata": {
        "colab": {
          "base_uri": "https://localhost:8080/"
        },
        "id": "_buOzVTgL_0o",
        "outputId": "e1cbeb2b-2789-45fa-f113-9e003fa7f8e5"
      },
      "execution_count": null,
      "outputs": [
        {
          "output_type": "stream",
          "name": "stdout",
          "text": [
            "Enter user's Pan Card: AYEPC7894X\n",
            "User's Pan Card is valid\n"
          ]
        }
      ]
    },
    {
      "cell_type": "code",
      "source": [
        "PAN_CARD = input(\"Enter user's Pan Card: \")\n",
        "p= PAN_CARD.upper()\n",
        "if PAN_CARD.isalpha() == True or PAN_CARD.isnumeric() == True:\n",
        "  print(f\"User's Pan Card is not valid\")\n",
        "  print(\"Re-Enter User's Pan Card\")\n",
        "elif PAN_CARD.isupper() == True and PAN_CARD.isalnum() == True:\n",
        "    print(f\"User's Pan Card is valid\")\n",
        "else:\n",
        "  print(f\"User's Pan Card after verification: {p}\")\n",
        "  print(f\"User's Pan Card is now acceptable\")"
      ],
      "metadata": {
        "colab": {
          "base_uri": "https://localhost:8080/"
        },
        "id": "HtvPH6KQSZ1n",
        "outputId": "c3b311de-948e-43c5-c58f-cf131eaf01d3"
      },
      "execution_count": null,
      "outputs": [
        {
          "output_type": "stream",
          "name": "stdout",
          "text": [
            "Enter user's Pan Card: ayepc7894x\n",
            "User's Pan Card after verification: AYEPC7894X\n",
            "User's Pan Card is now acceptable\n"
          ]
        }
      ]
    },
    {
      "cell_type": "code",
      "source": [
        "PAN_CARD = input(\"Enter user's Pan Card: \")\n",
        "p= PAN_CARD.upper()\n",
        "if PAN_CARD.isalpha() == True or PAN_CARD.isnumeric() == True:\n",
        "  print(f\"User's Pan Card is not valid\")\n",
        "  print(\"Re-Enter User's Pan Card\")\n",
        "elif PAN_CARD.isupper() == True and PAN_CARD.isalnum() == True:\n",
        "    print(f\"User's Pan Card is valid\")\n",
        "else:\n",
        "  print(f\"User's Pan Card after verification: {p}\")\n",
        "  print(f\"User's Pan Card is now acceptable\")"
      ],
      "metadata": {
        "colab": {
          "base_uri": "https://localhost:8080/"
        },
        "id": "F55mHe_oS7Du",
        "outputId": "7a05eba5-90f1-4474-c129-20798829dbe2"
      },
      "execution_count": null,
      "outputs": [
        {
          "output_type": "stream",
          "name": "stdout",
          "text": [
            "Enter user's Pan Card: ABCDE9999Y\n",
            "User's Pan Card is valid\n"
          ]
        }
      ]
    },
    {
      "cell_type": "code",
      "source": [
        "PAN_CARD = input(\"Enter user's Pan Card: \")\n",
        "p= PAN_CARD.upper()\n",
        "if PAN_CARD.isalpha() == True or PAN_CARD.isnumeric() == True:\n",
        "  print(f\"User's Pan Card is not valid\")\n",
        "  print(\"Re-Enter User's Pan Card\")\n",
        "elif PAN_CARD.isupper() == True and PAN_CARD.isalnum() == True:\n",
        "    print(f\"User's Pan Card is valid\")\n",
        "else:\n",
        "  print(f\"User's Pan Card after verification: {p}\")\n",
        "  print(f\"User's Pan Card is now acceptable\")"
      ],
      "metadata": {
        "colab": {
          "base_uri": "https://localhost:8080/"
        },
        "id": "ni1d1j1FTB7l",
        "outputId": "039b0b16-b057-459e-d180-17bf3ad9b0e6"
      },
      "execution_count": null,
      "outputs": [
        {
          "output_type": "stream",
          "name": "stdout",
          "text": [
            "Enter user's Pan Card: abcde9999y\n",
            "User's Pan Card after verification: ABCDE9999Y\n",
            "User's Pan Card is now acceptable\n"
          ]
        }
      ]
    },
    {
      "cell_type": "code",
      "source": [
        "PAN_CARD = input(\"Enter user's Pan Card: \")\n",
        "p= PAN_CARD.upper()\n",
        "if PAN_CARD.isalpha() == True or PAN_CARD.isnumeric() == True:\n",
        "  print(f\"User's Pan Card is not valid\")\n",
        "  print(\"Re-Enter User's Pan Card\")\n",
        "elif PAN_CARD.isupper() == True and PAN_CARD.isalnum() == True:\n",
        "    print(f\"User's Pan Card is valid\")\n",
        "else:\n",
        "  print(f\"User's Pan Card after verification: {p}\")\n",
        "  print(f\"User's Pan Card is now acceptable\")"
      ],
      "metadata": {
        "colab": {
          "base_uri": "https://localhost:8080/"
        },
        "id": "nA1SCD1LTI_O",
        "outputId": "91fdbb26-c58b-4b82-e9c0-5ba5a0c6dbac"
      },
      "execution_count": null,
      "outputs": [
        {
          "output_type": "stream",
          "name": "stdout",
          "text": [
            "Enter user's Pan Card: 012345678\n",
            "User's Pan Card is not valid\n",
            "Re-Enter User's Pan Card\n"
          ]
        }
      ]
    },
    {
      "cell_type": "code",
      "source": [
        "PAN_CARD = input(\"Enter user's Pan Card: \")\n",
        "p= PAN_CARD.upper()\n",
        "if PAN_CARD.isalpha() == True or PAN_CARD.isnumeric() == True:\n",
        "  print(f\"User's Pan Card is not valid\")\n",
        "  print(\"Re-Enter User's Pan Card\")\n",
        "elif PAN_CARD.isupper() == True and PAN_CARD.isalnum() == True:\n",
        "    print(f\"User's Pan Card is valid\")\n",
        "else:\n",
        "  print(f\"User's Pan Card after verification: {p}\")\n",
        "  print(f\"User's Pan Card is now acceptable\")"
      ],
      "metadata": {
        "colab": {
          "base_uri": "https://localhost:8080/"
        },
        "id": "0c5HkT2vVYu9",
        "outputId": "a6c2e9af-dfd0-42ab-9b2a-039da78d5e78"
      },
      "execution_count": null,
      "outputs": [
        {
          "output_type": "stream",
          "name": "stdout",
          "text": [
            "Enter user's Pan Card: abcdefghi\n",
            "User's Pan Card is not valid\n",
            "Re-Enter User's Pan Card\n"
          ]
        }
      ]
    }
  ]
}