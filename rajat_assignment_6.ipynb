{
 "cells": [
  {
   "cell_type": "markdown",
   "id": "9389aba5-6736-4c2a-8ffa-8b9cac3f3433",
   "metadata": {},
   "source": [
    "1. write a function which will try to find out len of a string without using an inbuilt len function "
   ]
  },
  {
   "cell_type": "code",
   "execution_count": 11,
   "id": "8331b2c1-202d-40e8-9a4b-7ef1129ca8a5",
   "metadata": {},
   "outputs": [],
   "source": [
    "def find():\n",
    "    string = input(\"Enter the String: \")\n",
    "    count = 0\n",
    " \n",
    "    for i in string:\n",
    "        count = count + 1\n",
    "    return count"
   ]
  },
  {
   "cell_type": "code",
   "execution_count": 12,
   "id": "1a415847-d6e0-45bf-91ee-6d5ee80b8f40",
   "metadata": {},
   "outputs": [
    {
     "name": "stdin",
     "output_type": "stream",
     "text": [
      "Enter the String:  rajat\n"
     ]
    },
    {
     "data": {
      "text/plain": [
       "5"
      ]
     },
     "execution_count": 12,
     "metadata": {},
     "output_type": "execute_result"
    }
   ],
   "source": [
    "find()"
   ]
  },
  {
   "cell_type": "markdown",
   "id": "cd04c591-e81d-45c9-8eac-bd130fe625a5",
   "metadata": {},
   "source": [
    "2. write a function which  will be able to print an index of list element without using an index function"
   ]
  },
  {
   "cell_type": "code",
   "execution_count": 27,
   "id": "ba935ad5-656b-4677-a5f3-daf5b7edd776",
   "metadata": {},
   "outputs": [],
   "source": [
    "def ele():\n",
    "    l1 = [\"eat\", \"sleep\", \"repeat\", 1, 23]\n",
    "    for ele in enumerate(l1):\n",
    "        print(ele)\n",
    "    return ele"
   ]
  },
  {
   "cell_type": "code",
   "execution_count": 28,
   "id": "2be24245-2387-41b8-8d78-94e310daabb2",
   "metadata": {},
   "outputs": [
    {
     "name": "stdout",
     "output_type": "stream",
     "text": [
      "(0, 'eat')\n",
      "(1, 'sleep')\n",
      "(2, 'repeat')\n",
      "(3, 1)\n",
      "(4, 23)\n"
     ]
    },
    {
     "data": {
      "text/plain": [
       "(4, 23)"
      ]
     },
     "execution_count": 28,
     "metadata": {},
     "output_type": "execute_result"
    }
   ],
   "source": [
    "ele()"
   ]
  },
  {
   "cell_type": "markdown",
   "id": "f0bba33d-38eb-4529-9c74-68a696a47578",
   "metadata": {},
   "source": [
    "3. write a function which will be able to print an ip address of your system"
   ]
  },
  {
   "cell_type": "code",
   "execution_count": 29,
   "id": "2eff1d6e-c0e3-428d-8d47-5d1461afafc7",
   "metadata": {},
   "outputs": [
    {
     "name": "stdout",
     "output_type": "stream",
     "text": [
      "Your Computer Name is:7afa860bb9cc\n",
      "Your Computer IP Address is:172.18.0.11\n"
     ]
    }
   ],
   "source": [
    "import socket\n",
    "hostname = socket.gethostname()\n",
    "IPAddr = socket.gethostbyname(hostname)\n",
    " \n",
    "print(\"Your Computer Name is:\" + hostname)\n",
    "print(\"Your Computer IP Address is:\" + IPAddr)"
   ]
  },
  {
   "cell_type": "markdown",
   "id": "32b72793-94b0-4ec8-a9d7-093e6864bf06",
   "metadata": {},
   "source": [
    "4. write a function which will shutdown your system"
   ]
  },
  {
   "cell_type": "code",
   "execution_count": 1,
   "id": "f9b27ecf-f72b-420d-9bcf-3d127f2108e3",
   "metadata": {},
   "outputs": [
    {
     "name": "stdin",
     "output_type": "stream",
     "text": [
      "Do you wish to shutdown your computer ? (yes / no):  yes\n"
     ]
    },
    {
     "name": "stderr",
     "output_type": "stream",
     "text": [
      "sh: 1: shutdown: not found\n"
     ]
    }
   ],
   "source": [
    "import os\n",
    "  \n",
    "shutdown = input(\"Do you wish to shutdown your computer ? (yes / no): \")\n",
    "  \n",
    "if shutdown == 'yes':\n",
    "    os.system(\"shutdown /s /t 1\")\n",
    "else:\n",
    "    exit()"
   ]
  },
  {
   "cell_type": "markdown",
   "id": "2ea8d554-4a77-40ba-af8d-7cda9f821e81",
   "metadata": {},
   "source": [
    "5. write a function which will take input as a list with any kind of numeric value and give an output  as a multiplication of \n",
    "all the numeric data l = [3.5, 6.56, 4,5,\"sudh\" , \"ineuron\" , 'fsda bootcamp 2.0']"
   ]
  },
  {
   "cell_type": "code",
   "execution_count": 29,
   "id": "7d0634bd-64ae-449e-9d8b-8ec2476456db",
   "metadata": {},
   "outputs": [],
   "source": [
    "def multil():\n",
    "    l = [3.5, 6.56, 4,5,\"sudh\" , \"ineuron\" , 'fsda bootcamp 2.0']\n",
    "    a = 1\n",
    "    for i in l :\n",
    "        if type(i) != str:\n",
    "            a = i * a\n",
    "    return a"
   ]
  },
  {
   "cell_type": "code",
   "execution_count": 30,
   "id": "e89af1b2-c224-469b-bfbb-bd32a4a4fab6",
   "metadata": {},
   "outputs": [
    {
     "data": {
      "text/plain": [
       "459.19999999999993"
      ]
     },
     "execution_count": 30,
     "metadata": {},
     "output_type": "execute_result"
    }
   ],
   "source": [
    "multil()"
   ]
  },
  {
   "cell_type": "markdown",
   "id": "d765cf99-bda2-4cc9-80f1-aedb7f2713b1",
   "metadata": {},
   "source": [
    "6. write a function which will be able to read all the mails "
   ]
  },
  {
   "cell_type": "code",
   "execution_count": 1,
   "id": "ddc2f798-b280-487c-af63-585f8e414bff",
   "metadata": {},
   "outputs": [],
   "source": [
    "ORG_EMAIL   = \"@gmail.com\"\n",
    "FROM_EMAIL  = \"yourEmailAddress\" + ORG_EMAIL\n",
    "FROM_PWD    = \"yourPassword\"\n",
    "SMTP_SERVER = \"imap.gmail.com\"\n",
    "SMTP_PORT   = 993\n",
    "\n",
    "def read_email_from_gmail():\n",
    "    mail = imaplib.IMAP4_SSL(SMTP_SERVER)\n",
    "    mail.login(FROM_EMAIL,FROM_PWD)\n",
    "    mail.select('inbox')\n",
    "    data = mail.search(None, 'ALL')\n",
    "    mail_ids = data[1]\n",
    "    id_list = mail_ids[0].split()\n",
    "    first_email_id = int(id_list[0])\n",
    "    latest_email_id = int(id_list[-1])\n",
    "    "
   ]
  },
  {
   "cell_type": "code",
   "execution_count": 2,
   "id": "77af15af-4301-4198-8691-a8991a81592a",
   "metadata": {},
   "outputs": [
    {
     "ename": "NameError",
     "evalue": "name 'imaplib' is not defined",
     "output_type": "error",
     "traceback": [
      "\u001b[0;31m---------------------------------------------------------------------------\u001b[0m",
      "\u001b[0;31mNameError\u001b[0m                                 Traceback (most recent call last)",
      "Cell \u001b[0;32mIn [2], line 1\u001b[0m\n\u001b[0;32m----> 1\u001b[0m \u001b[43mread_email_from_gmail\u001b[49m\u001b[43m(\u001b[49m\u001b[43m)\u001b[49m\n",
      "Cell \u001b[0;32mIn [1], line 8\u001b[0m, in \u001b[0;36mread_email_from_gmail\u001b[0;34m()\u001b[0m\n\u001b[1;32m      7\u001b[0m \u001b[38;5;28;01mdef\u001b[39;00m \u001b[38;5;21mread_email_from_gmail\u001b[39m():\n\u001b[0;32m----> 8\u001b[0m     mail \u001b[38;5;241m=\u001b[39m \u001b[43mimaplib\u001b[49m\u001b[38;5;241m.\u001b[39mIMAP4_SSL(SMTP_SERVER)\n\u001b[1;32m      9\u001b[0m     mail\u001b[38;5;241m.\u001b[39mlogin(FROM_EMAIL,FROM_PWD)\n\u001b[1;32m     10\u001b[0m     mail\u001b[38;5;241m.\u001b[39mselect(\u001b[38;5;124m'\u001b[39m\u001b[38;5;124minbox\u001b[39m\u001b[38;5;124m'\u001b[39m)\n",
      "\u001b[0;31mNameError\u001b[0m: name 'imaplib' is not defined"
     ]
    }
   ],
   "source": [
    "read_email_from_gmail()"
   ]
  },
  {
   "cell_type": "markdown",
   "id": "5aa67fd4-28d0-4e09-a64a-17f69a736fcf",
   "metadata": {},
   "source": [
    "7 . write a function which will be able to send a mail to anyone "
   ]
  },
  {
   "cell_type": "code",
   "execution_count": 3,
   "id": "6b9d2482-45c5-4314-ab38-66187c374c55",
   "metadata": {},
   "outputs": [
    {
     "ename": "SMTPAuthenticationError",
     "evalue": "(535, b'5.7.8 Username and Password not accepted. Learn more at\\n5.7.8  https://support.google.com/mail/?p=BadCredentials jc22-20020a17090325d600b00186b8752a78sm2416407plb.80 - gsmtp')",
     "output_type": "error",
     "traceback": [
      "\u001b[0;31m---------------------------------------------------------------------------\u001b[0m",
      "\u001b[0;31mSMTPAuthenticationError\u001b[0m                   Traceback (most recent call last)",
      "Cell \u001b[0;32mIn [3], line 10\u001b[0m\n\u001b[1;32m      7\u001b[0m s\u001b[38;5;241m.\u001b[39mstarttls()\n\u001b[1;32m      9\u001b[0m \u001b[38;5;66;03m# Authentication\u001b[39;00m\n\u001b[0;32m---> 10\u001b[0m \u001b[43ms\u001b[49m\u001b[38;5;241;43m.\u001b[39;49m\u001b[43mlogin\u001b[49m\u001b[43m(\u001b[49m\u001b[38;5;124;43m\"\u001b[39;49m\u001b[38;5;124;43msender_email_id\u001b[39;49m\u001b[38;5;124;43m\"\u001b[39;49m\u001b[43m,\u001b[49m\u001b[43m \u001b[49m\u001b[38;5;124;43m\"\u001b[39;49m\u001b[38;5;124;43msender_email_id_password\u001b[39;49m\u001b[38;5;124;43m\"\u001b[39;49m\u001b[43m)\u001b[49m\n\u001b[1;32m     12\u001b[0m \u001b[38;5;66;03m# message to be sent\u001b[39;00m\n\u001b[1;32m     13\u001b[0m message \u001b[38;5;241m=\u001b[39m \u001b[38;5;124m\"\u001b[39m\u001b[38;5;124mMessage_you_need_to_send\u001b[39m\u001b[38;5;124m\"\u001b[39m\n",
      "File \u001b[0;32m/opt/conda/lib/python3.10/smtplib.py:750\u001b[0m, in \u001b[0;36mSMTP.login\u001b[0;34m(self, user, password, initial_response_ok)\u001b[0m\n\u001b[1;32m    747\u001b[0m         last_exception \u001b[38;5;241m=\u001b[39m e\n\u001b[1;32m    749\u001b[0m \u001b[38;5;66;03m# We could not login successfully.  Return result of last attempt.\u001b[39;00m\n\u001b[0;32m--> 750\u001b[0m \u001b[38;5;28;01mraise\u001b[39;00m last_exception\n",
      "File \u001b[0;32m/opt/conda/lib/python3.10/smtplib.py:739\u001b[0m, in \u001b[0;36mSMTP.login\u001b[0;34m(self, user, password, initial_response_ok)\u001b[0m\n\u001b[1;32m    737\u001b[0m method_name \u001b[38;5;241m=\u001b[39m \u001b[38;5;124m'\u001b[39m\u001b[38;5;124mauth_\u001b[39m\u001b[38;5;124m'\u001b[39m \u001b[38;5;241m+\u001b[39m authmethod\u001b[38;5;241m.\u001b[39mlower()\u001b[38;5;241m.\u001b[39mreplace(\u001b[38;5;124m'\u001b[39m\u001b[38;5;124m-\u001b[39m\u001b[38;5;124m'\u001b[39m, \u001b[38;5;124m'\u001b[39m\u001b[38;5;124m_\u001b[39m\u001b[38;5;124m'\u001b[39m)\n\u001b[1;32m    738\u001b[0m \u001b[38;5;28;01mtry\u001b[39;00m:\n\u001b[0;32m--> 739\u001b[0m     (code, resp) \u001b[38;5;241m=\u001b[39m \u001b[38;5;28;43mself\u001b[39;49m\u001b[38;5;241;43m.\u001b[39;49m\u001b[43mauth\u001b[49m\u001b[43m(\u001b[49m\n\u001b[1;32m    740\u001b[0m \u001b[43m        \u001b[49m\u001b[43mauthmethod\u001b[49m\u001b[43m,\u001b[49m\u001b[43m \u001b[49m\u001b[38;5;28;43mgetattr\u001b[39;49m\u001b[43m(\u001b[49m\u001b[38;5;28;43mself\u001b[39;49m\u001b[43m,\u001b[49m\u001b[43m \u001b[49m\u001b[43mmethod_name\u001b[49m\u001b[43m)\u001b[49m\u001b[43m,\u001b[49m\n\u001b[1;32m    741\u001b[0m \u001b[43m        \u001b[49m\u001b[43minitial_response_ok\u001b[49m\u001b[38;5;241;43m=\u001b[39;49m\u001b[43minitial_response_ok\u001b[49m\u001b[43m)\u001b[49m\n\u001b[1;32m    742\u001b[0m     \u001b[38;5;66;03m# 235 == 'Authentication successful'\u001b[39;00m\n\u001b[1;32m    743\u001b[0m     \u001b[38;5;66;03m# 503 == 'Error: already authenticated'\u001b[39;00m\n\u001b[1;32m    744\u001b[0m     \u001b[38;5;28;01mif\u001b[39;00m code \u001b[38;5;129;01min\u001b[39;00m (\u001b[38;5;241m235\u001b[39m, \u001b[38;5;241m503\u001b[39m):\n",
      "File \u001b[0;32m/opt/conda/lib/python3.10/smtplib.py:662\u001b[0m, in \u001b[0;36mSMTP.auth\u001b[0;34m(self, mechanism, authobject, initial_response_ok)\u001b[0m\n\u001b[1;32m    660\u001b[0m \u001b[38;5;28;01mif\u001b[39;00m code \u001b[38;5;129;01min\u001b[39;00m (\u001b[38;5;241m235\u001b[39m, \u001b[38;5;241m503\u001b[39m):\n\u001b[1;32m    661\u001b[0m     \u001b[38;5;28;01mreturn\u001b[39;00m (code, resp)\n\u001b[0;32m--> 662\u001b[0m \u001b[38;5;28;01mraise\u001b[39;00m SMTPAuthenticationError(code, resp)\n",
      "\u001b[0;31mSMTPAuthenticationError\u001b[0m: (535, b'5.7.8 Username and Password not accepted. Learn more at\\n5.7.8  https://support.google.com/mail/?p=BadCredentials jc22-20020a17090325d600b00186b8752a78sm2416407plb.80 - gsmtp')"
     ]
    }
   ],
   "source": [
    "import smtplib\n",
    "\n",
    "s = smtplib.SMTP('smtp.gmail.com', 587)\n",
    "\n",
    "s.starttls()\n",
    "\n",
    "s.login(\"sender_email_id\", \"sender_email_id_password\")\n",
    "\n",
    "message = \"Message_you_need_to_send\"\n",
    "\n",
    "s.sendmail(\"sender_email_id\", \"receiver_email_id\", message)\n",
    "\n",
    "s.quit()\n"
   ]
  },
  {
   "cell_type": "markdown",
   "id": "7d2e6f52-b655-405b-a0f1-5da16fa7534c",
   "metadata": {},
   "source": [
    "8. write a function which will be able to read a doc/word file from your system "
   ]
  },
  {
   "cell_type": "code",
   "execution_count": 4,
   "id": "fc6cc00b-5108-403b-9eb9-04883e5015c2",
   "metadata": {},
   "outputs": [
    {
     "name": "stdout",
     "output_type": "stream",
     "text": [
      "Requirement already satisfied: python-docx in /opt/conda/lib/python3.10/site-packages (0.8.11)\n",
      "Requirement already satisfied: lxml>=2.3.2 in /opt/conda/lib/python3.10/site-packages (from python-docx) (4.9.1)\n",
      "Note: you may need to restart the kernel to use updated packages.\n"
     ]
    }
   ],
   "source": [
    "pip install python-docx"
   ]
  },
  {
   "cell_type": "code",
   "execution_count": 1,
   "id": "b9f59f0b-c0cd-466e-85d5-c723bd752ac3",
   "metadata": {},
   "outputs": [
    {
     "ename": "PackageNotFoundError",
     "evalue": "Package not found at 'F:\file.docx'",
     "output_type": "error",
     "traceback": [
      "\u001b[0;31m---------------------------------------------------------------------------\u001b[0m",
      "\u001b[0;31mPackageNotFoundError\u001b[0m                      Traceback (most recent call last)",
      "Cell \u001b[0;32mIn [1], line 3\u001b[0m\n\u001b[1;32m      1\u001b[0m \u001b[38;5;28;01mimport\u001b[39;00m \u001b[38;5;21;01mdocx\u001b[39;00m\n\u001b[0;32m----> 3\u001b[0m doc \u001b[38;5;241m=\u001b[39m \u001b[43mdocx\u001b[49m\u001b[38;5;241;43m.\u001b[39;49m\u001b[43mDocument\u001b[49m\u001b[43m(\u001b[49m\u001b[38;5;124;43m\"\u001b[39;49m\u001b[38;5;124;43mF:\u001b[39;49m\u001b[38;5;130;43;01m\\f\u001b[39;49;00m\u001b[38;5;124;43mile.docx\u001b[39;49m\u001b[38;5;124;43m\"\u001b[39;49m\u001b[43m)\u001b[49m\n\u001b[1;32m      5\u001b[0m all_paras \u001b[38;5;241m=\u001b[39m doc\u001b[38;5;241m.\u001b[39mparagraphs\n\u001b[1;32m      6\u001b[0m \u001b[38;5;28mlen\u001b[39m(all_paras)\n",
      "File \u001b[0;32m/opt/conda/lib/python3.10/site-packages/docx/api.py:25\u001b[0m, in \u001b[0;36mDocument\u001b[0;34m(docx)\u001b[0m\n\u001b[1;32m     18\u001b[0m \u001b[38;5;124;03m\"\"\"\u001b[39;00m\n\u001b[1;32m     19\u001b[0m \u001b[38;5;124;03mReturn a |Document| object loaded from *docx*, where *docx* can be\u001b[39;00m\n\u001b[1;32m     20\u001b[0m \u001b[38;5;124;03meither a path to a ``.docx`` file (a string) or a file-like object. If\u001b[39;00m\n\u001b[1;32m     21\u001b[0m \u001b[38;5;124;03m*docx* is missing or ``None``, the built-in default document \"template\"\u001b[39;00m\n\u001b[1;32m     22\u001b[0m \u001b[38;5;124;03mis loaded.\u001b[39;00m\n\u001b[1;32m     23\u001b[0m \u001b[38;5;124;03m\"\"\"\u001b[39;00m\n\u001b[1;32m     24\u001b[0m docx \u001b[38;5;241m=\u001b[39m _default_docx_path() \u001b[38;5;28;01mif\u001b[39;00m docx \u001b[38;5;129;01mis\u001b[39;00m \u001b[38;5;28;01mNone\u001b[39;00m \u001b[38;5;28;01melse\u001b[39;00m docx\n\u001b[0;32m---> 25\u001b[0m document_part \u001b[38;5;241m=\u001b[39m \u001b[43mPackage\u001b[49m\u001b[38;5;241;43m.\u001b[39;49m\u001b[43mopen\u001b[49m\u001b[43m(\u001b[49m\u001b[43mdocx\u001b[49m\u001b[43m)\u001b[49m\u001b[38;5;241m.\u001b[39mmain_document_part\n\u001b[1;32m     26\u001b[0m \u001b[38;5;28;01mif\u001b[39;00m document_part\u001b[38;5;241m.\u001b[39mcontent_type \u001b[38;5;241m!=\u001b[39m CT\u001b[38;5;241m.\u001b[39mWML_DOCUMENT_MAIN:\n\u001b[1;32m     27\u001b[0m     tmpl \u001b[38;5;241m=\u001b[39m \u001b[38;5;124m\"\u001b[39m\u001b[38;5;124mfile \u001b[39m\u001b[38;5;124m'\u001b[39m\u001b[38;5;132;01m%s\u001b[39;00m\u001b[38;5;124m'\u001b[39m\u001b[38;5;124m is not a Word file, content type is \u001b[39m\u001b[38;5;124m'\u001b[39m\u001b[38;5;132;01m%s\u001b[39;00m\u001b[38;5;124m'\u001b[39m\u001b[38;5;124m\"\u001b[39m\n",
      "File \u001b[0;32m/opt/conda/lib/python3.10/site-packages/docx/opc/package.py:128\u001b[0m, in \u001b[0;36mOpcPackage.open\u001b[0;34m(cls, pkg_file)\u001b[0m\n\u001b[1;32m    122\u001b[0m \u001b[38;5;129m@classmethod\u001b[39m\n\u001b[1;32m    123\u001b[0m \u001b[38;5;28;01mdef\u001b[39;00m \u001b[38;5;21mopen\u001b[39m(\u001b[38;5;28mcls\u001b[39m, pkg_file):\n\u001b[1;32m    124\u001b[0m     \u001b[38;5;124;03m\"\"\"\u001b[39;00m\n\u001b[1;32m    125\u001b[0m \u001b[38;5;124;03m    Return an |OpcPackage| instance loaded with the contents of\u001b[39;00m\n\u001b[1;32m    126\u001b[0m \u001b[38;5;124;03m    *pkg_file*.\u001b[39;00m\n\u001b[1;32m    127\u001b[0m \u001b[38;5;124;03m    \"\"\"\u001b[39;00m\n\u001b[0;32m--> 128\u001b[0m     pkg_reader \u001b[38;5;241m=\u001b[39m \u001b[43mPackageReader\u001b[49m\u001b[38;5;241;43m.\u001b[39;49m\u001b[43mfrom_file\u001b[49m\u001b[43m(\u001b[49m\u001b[43mpkg_file\u001b[49m\u001b[43m)\u001b[49m\n\u001b[1;32m    129\u001b[0m     package \u001b[38;5;241m=\u001b[39m \u001b[38;5;28mcls\u001b[39m()\n\u001b[1;32m    130\u001b[0m     Unmarshaller\u001b[38;5;241m.\u001b[39munmarshal(pkg_reader, package, PartFactory)\n",
      "File \u001b[0;32m/opt/conda/lib/python3.10/site-packages/docx/opc/pkgreader.py:32\u001b[0m, in \u001b[0;36mPackageReader.from_file\u001b[0;34m(pkg_file)\u001b[0m\n\u001b[1;32m     27\u001b[0m \u001b[38;5;129m@staticmethod\u001b[39m\n\u001b[1;32m     28\u001b[0m \u001b[38;5;28;01mdef\u001b[39;00m \u001b[38;5;21mfrom_file\u001b[39m(pkg_file):\n\u001b[1;32m     29\u001b[0m     \u001b[38;5;124;03m\"\"\"\u001b[39;00m\n\u001b[1;32m     30\u001b[0m \u001b[38;5;124;03m    Return a |PackageReader| instance loaded with contents of *pkg_file*.\u001b[39;00m\n\u001b[1;32m     31\u001b[0m \u001b[38;5;124;03m    \"\"\"\u001b[39;00m\n\u001b[0;32m---> 32\u001b[0m     phys_reader \u001b[38;5;241m=\u001b[39m \u001b[43mPhysPkgReader\u001b[49m\u001b[43m(\u001b[49m\u001b[43mpkg_file\u001b[49m\u001b[43m)\u001b[49m\n\u001b[1;32m     33\u001b[0m     content_types \u001b[38;5;241m=\u001b[39m _ContentTypeMap\u001b[38;5;241m.\u001b[39mfrom_xml(phys_reader\u001b[38;5;241m.\u001b[39mcontent_types_xml)\n\u001b[1;32m     34\u001b[0m     pkg_srels \u001b[38;5;241m=\u001b[39m PackageReader\u001b[38;5;241m.\u001b[39m_srels_for(phys_reader, PACKAGE_URI)\n",
      "File \u001b[0;32m/opt/conda/lib/python3.10/site-packages/docx/opc/phys_pkg.py:30\u001b[0m, in \u001b[0;36mPhysPkgReader.__new__\u001b[0;34m(cls, pkg_file)\u001b[0m\n\u001b[1;32m     28\u001b[0m         reader_cls \u001b[38;5;241m=\u001b[39m _ZipPkgReader\n\u001b[1;32m     29\u001b[0m     \u001b[38;5;28;01melse\u001b[39;00m:\n\u001b[0;32m---> 30\u001b[0m         \u001b[38;5;28;01mraise\u001b[39;00m PackageNotFoundError(\n\u001b[1;32m     31\u001b[0m             \u001b[38;5;124m\"\u001b[39m\u001b[38;5;124mPackage not found at \u001b[39m\u001b[38;5;124m'\u001b[39m\u001b[38;5;132;01m%s\u001b[39;00m\u001b[38;5;124m'\u001b[39m\u001b[38;5;124m\"\u001b[39m \u001b[38;5;241m%\u001b[39m pkg_file\n\u001b[1;32m     32\u001b[0m         )\n\u001b[1;32m     33\u001b[0m \u001b[38;5;28;01melse\u001b[39;00m:  \u001b[38;5;66;03m# assume it's a stream and pass it to Zip reader to sort out\u001b[39;00m\n\u001b[1;32m     34\u001b[0m     reader_cls \u001b[38;5;241m=\u001b[39m _ZipPkgReader\n",
      "\u001b[0;31mPackageNotFoundError\u001b[0m: Package not found at 'F:\file.docx'"
     ]
    }
   ],
   "source": [
    "import docx\n",
    "\n",
    "doc = docx.Document(\"F:\\file.docx\")\n",
    "\n",
    "all_paras = doc.paragraphs\n",
    "len(all_paras)\n",
    "\n",
    "for para in all_paras:\n",
    "    print(para.text)\n",
    "    print(\"-------\")\n"
   ]
  },
  {
   "cell_type": "markdown",
   "id": "e34a7720-889b-462d-9fc7-5b4931937c5a",
   "metadata": {},
   "source": [
    " question: 6,7,8 unable to understand due to less time and can't run properly."
   ]
  }
 ],
 "metadata": {
  "kernelspec": {
   "display_name": "Python 3 (ipykernel)",
   "language": "python",
   "name": "python3"
  },
  "language_info": {
   "codemirror_mode": {
    "name": "ipython",
    "version": 3
   },
   "file_extension": ".py",
   "mimetype": "text/x-python",
   "name": "python",
   "nbconvert_exporter": "python",
   "pygments_lexer": "ipython3",
   "version": "3.10.6"
  }
 },
 "nbformat": 4,
 "nbformat_minor": 5
}
