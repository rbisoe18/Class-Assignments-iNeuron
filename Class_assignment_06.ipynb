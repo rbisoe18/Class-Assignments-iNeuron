{
 "cells": [
  {
   "cell_type": "markdown",
   "id": "d1526593-8bf6-4d34-9451-23cd22f9f28c",
   "metadata": {},
   "source": [
    "1. write a function which will try to find out len of a string without using an inbuilt len function"
   ]
  },
  {
   "cell_type": "code",
   "execution_count": 8,
   "id": "49397b1b-aa00-4310-9dec-d1fed7fa8b7d",
   "metadata": {},
   "outputs": [],
   "source": [
    "def test():\n",
    "    \"\"\" This is the program which helps you to find length of the string\"\"\"\n",
    "    count = 0\n",
    "    string = input(\"Enter the string: \")\n",
    "    for i in string:\n",
    "       # if type(string) == str:\n",
    "            count = count + 1\n",
    "    return count"
   ]
  },
  {
   "cell_type": "code",
   "execution_count": 9,
   "id": "814eeed9-242d-404d-804c-00975cb2d090",
   "metadata": {},
   "outputs": [
    {
     "name": "stdin",
     "output_type": "stream",
     "text": [
      "Enter the string:  rajat\n"
     ]
    },
    {
     "data": {
      "text/plain": [
       "5"
      ]
     },
     "execution_count": 9,
     "metadata": {},
     "output_type": "execute_result"
    }
   ],
   "source": [
    "test()"
   ]
  },
  {
   "cell_type": "markdown",
   "id": "145969af-a286-4787-952e-f62b1ddb7a61",
   "metadata": {},
   "source": [
    "2. write a function which will be able to print an index of list element without using an index function"
   ]
  },
  {
   "cell_type": "code",
   "execution_count": 10,
   "id": "753e17dd-fea0-4671-9d99-1f329e7b975b",
   "metadata": {},
   "outputs": [],
   "source": [
    "l = [\"eat\", \"sleep\", \"repeat\", 1, 23]"
   ]
  },
  {
   "cell_type": "code",
   "execution_count": 19,
   "id": "f6e538d9-3b50-48df-a5f9-1b3833158697",
   "metadata": {},
   "outputs": [],
   "source": [
    "def test1(l):\n",
    "    for i in range(0,len(l)):\n",
    "        print(l[i], \":\",i)"
   ]
  },
  {
   "cell_type": "code",
   "execution_count": 20,
   "id": "649c3b3d-2e47-48d1-8554-3a02b4f641f9",
   "metadata": {},
   "outputs": [
    {
     "name": "stdout",
     "output_type": "stream",
     "text": [
      "eat : 0\n",
      "sleep : 1\n",
      "repeat : 2\n",
      "1 : 3\n",
      "23 : 4\n"
     ]
    }
   ],
   "source": [
    "test1(l)"
   ]
  },
  {
   "cell_type": "markdown",
   "id": "aeaa6fa5-4785-4d84-bd3d-501c8d628ef5",
   "metadata": {},
   "source": [
    "3. write a function which will be able to print an ip address of your system"
   ]
  },
  {
   "cell_type": "code",
   "execution_count": 23,
   "id": "f4202cb4-adcf-4f38-b0f0-fb468404348c",
   "metadata": {},
   "outputs": [],
   "source": [
    "import socket\n",
    "def test2():\n",
    "    ip = socket.gethostbyname(socket.gethostname())\n",
    "    return ip"
   ]
  },
  {
   "cell_type": "code",
   "execution_count": 24,
   "id": "1ab3e353-8eee-49e3-96a6-c4b86b01808e",
   "metadata": {},
   "outputs": [
    {
     "data": {
      "text/plain": [
       "'172.18.0.11'"
      ]
     },
     "execution_count": 24,
     "metadata": {},
     "output_type": "execute_result"
    }
   ],
   "source": [
    "test2()"
   ]
  },
  {
   "cell_type": "markdown",
   "id": "b2114f63-3de8-40a6-821e-c7c3ca22d93f",
   "metadata": {},
   "source": [
    "4. write a function which will shutdown your system"
   ]
  },
  {
   "cell_type": "code",
   "execution_count": null,
   "id": "6c1cfd48-46dc-44bc-a49a-3e58525a348d",
   "metadata": {},
   "outputs": [],
   "source": [
    "import os\n",
    "os.system(\"shutdown /s /t 4\")\n",
    "\n",
    "# os.system(\"shutdown /r /t 4\") # Restart\n",
    "\n",
    "# /s - shutdown\n",
    "# /r - restart\n",
    "# /t 1(timer)  - timer parameter"
   ]
  },
  {
   "cell_type": "markdown",
   "id": "e870ddfc-5c69-4612-b38b-eee0a15365c2",
   "metadata": {},
   "source": [
    "5. write a function which will take input as a list with any kind of numeric value and give an output as a multiplication of all the numeric data l = [3.5, 6.56, 4,5,\"sudh\" , \"ineuron\" , 'fsda bootcamp 2.0']"
   ]
  },
  {
   "cell_type": "code",
   "execution_count": 27,
   "id": "2894e9e7-f7b3-4103-9a9f-35949e3ff285",
   "metadata": {},
   "outputs": [],
   "source": [
    "l = [3.5, 6.56, 4,5,\"sudh\" , \"ineuron\" , 'fsda bootcamp 2.0']\n",
    "\n",
    "def test3():\n",
    "    mul = 1\n",
    "    for i in l:\n",
    "        if type(i) == int or type(i) == float:\n",
    "            mul = mul * i\n",
    "    return mul"
   ]
  },
  {
   "cell_type": "code",
   "execution_count": 28,
   "id": "ad2c2286-4ab0-44ea-9656-809f03455f8d",
   "metadata": {},
   "outputs": [
    {
     "data": {
      "text/plain": [
       "459.19999999999993"
      ]
     },
     "execution_count": 28,
     "metadata": {},
     "output_type": "execute_result"
    }
   ],
   "source": [
    "test3()"
   ]
  },
  {
   "cell_type": "markdown",
   "id": "1bdca3e9-dba2-4ce6-a12e-4a6e4fba7bf3",
   "metadata": {},
   "source": [
    "# OR"
   ]
  },
  {
   "cell_type": "code",
   "execution_count": 29,
   "id": "8b965dde-b144-4bdc-aa37-da91575419a0",
   "metadata": {},
   "outputs": [],
   "source": [
    "def multil():\n",
    "    l = [3.5, 6.56, 4,5,\"sudh\" , \"ineuron\" , 'fsda bootcamp 2.0']\n",
    "    mul = 1\n",
    "    for i in l :\n",
    "        if type(i) != str:\n",
    "            mul = i * mul\n",
    "    return mul"
   ]
  },
  {
   "cell_type": "code",
   "execution_count": 31,
   "id": "410a880a-9423-4871-89fe-6cb88844e8d9",
   "metadata": {},
   "outputs": [
    {
     "data": {
      "text/plain": [
       "459.19999999999993"
      ]
     },
     "execution_count": 31,
     "metadata": {},
     "output_type": "execute_result"
    }
   ],
   "source": [
    "multil()"
   ]
  },
  {
   "cell_type": "markdown",
   "id": "cc134c60-5959-4af4-ac19-97ee347624a7",
   "metadata": {},
   "source": [
    "6. write a function which will be able to read all the mails"
   ]
  },
  {
   "cell_type": "code",
   "execution_count": null,
   "id": "a6526e09-080f-4a2b-afac-1ed1d8b8b4dd",
   "metadata": {},
   "outputs": [],
   "source": [
    "import smtplib\n",
    "import time\n",
    "import imaplib\n",
    "import email\n",
    "ORG_EMAIL = \"@gmail.com\" \n",
    "FROM_EMAIL = 'rbisoe@gmail.com'\n",
    "FROM_PWD = 'jzvqnmrwzwhfxvcx'\n",
    "SMTP_SERVER = \"imap.gmail.com\" \n",
    "SMTP_PORT = 993\n",
    "imaplib._MAXLINE = 400000000\n",
    "\n",
    "def read_email_from_gmail():\n",
    "    try:\n",
    "        mail = imaplib.IMAP4_SSL(SMTP_SERVER)\n",
    "        mail.login(FROM_EMAIL,FROM_PWD)\n",
    "        mail.select('inbox')\n",
    "\n",
    "        data = mail.search(None, 'ALL')\n",
    "        mail_ids = data[1]\n",
    "        id_list = mail_ids[0].split()   \n",
    "        first_email_id = int(id_list[0])\n",
    "        latest_email_id = int(id_list[-1])\n",
    "\n",
    "        for i in range(latest_email_id,first_email_id, -1):\n",
    "            data = mail.fetch(str(i), '(RFC822)' )\n",
    "            for response_part in data:\n",
    "                arr = response_part[0]\n",
    "                if isinstance(arr, tuple):\n",
    "                    msg = email.message_from_string(str(arr[1],'utf-8'))\n",
    "                    email_subject = msg['subject']\n",
    "                    email_from = msg['from']\n",
    "                    print('From : ' + email_from + '\\n')\n",
    "                    print('Subject : ' + email_subject + '\\n')\n",
    "\n",
    "    except Exception as e:\n",
    "        traceback.print_exc() \n",
    "        print(str(e))\n",
    "\n",
    "read_email_from_gmail()"
   ]
  },
  {
   "cell_type": "markdown",
   "id": "2ba85544-2d93-4b2b-9a3e-205efadf5262",
   "metadata": {},
   "source": [
    "7. write a function which will be able to send a mail to anyone"
   ]
  },
  {
   "cell_type": "code",
   "execution_count": null,
   "id": "9518ba07-d79b-4632-9e1b-ce56a6687439",
   "metadata": {},
   "outputs": [],
   "source": [
    "import smtplib , ssl\n",
    "port = 465  # For SSL\n",
    "smtp_server = \"smtp.gmail.com\"\n",
    "sender_email = \"rbisoe@gmail.com\"  # Enter your address\n",
    "receiver_email = \"sudhanshu@ineuron.ai\"  # Enter receiver address\n",
    "#password = 'jzvqnmrwzwhfxvcx'\n",
    "password = 'jzvqnmrwzwhfxvcx'\n",
    "message = \"\"\"this is my message from python code \"\"\"\n",
    "\n",
    "context = ssl.create_default_context()\n",
    "with smtplib.SMTP_SSL(smtp_server, port, context=context) as server:\n",
    "    server.login(sender_email, password)\n",
    "    server.sendmail(sender_email, receiver_email, message)"
   ]
  },
  {
   "cell_type": "markdown",
   "id": "a19c56de-e3a0-460c-af3d-29db7460fd40",
   "metadata": {},
   "source": [
    "8. write a function which will be able to read a doc/word file from your system"
   ]
  },
  {
   "cell_type": "code",
   "execution_count": null,
   "id": "c15fa472-1337-45cf-9574-92f11e8fba92",
   "metadata": {},
   "outputs": [],
   "source": [
    "!pip install docx2txt"
   ]
  },
  {
   "cell_type": "code",
   "execution_count": null,
   "id": "87a0a02a-9737-46f3-bf27-0776f9643103",
   "metadata": {},
   "outputs": [],
   "source": [
    "a = docx2txt.process('file.docx')\n",
    "print(a)"
   ]
  },
  {
   "cell_type": "code",
   "execution_count": null,
   "id": "853ed230-f1e1-46bd-9a85-a60497e571d4",
   "metadata": {},
   "outputs": [],
   "source": []
  }
 ],
 "metadata": {
  "kernelspec": {
   "display_name": "Python 3 (ipykernel)",
   "language": "python",
   "name": "python3"
  },
  "language_info": {
   "codemirror_mode": {
    "name": "ipython",
    "version": 3
   },
   "file_extension": ".py",
   "mimetype": "text/x-python",
   "name": "python",
   "nbconvert_exporter": "python",
   "pygments_lexer": "ipython3",
   "version": "3.10.6"
  }
 },
 "nbformat": 4,
 "nbformat_minor": 5
}
