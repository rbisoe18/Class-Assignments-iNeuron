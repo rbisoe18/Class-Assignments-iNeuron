{
  "nbformat": 4,
  "nbformat_minor": 0,
  "metadata": {
    "colab": {
      "provenance": [],
      "collapsed_sections": []
    },
    "kernelspec": {
      "name": "python3",
      "display_name": "Python 3"
    },
    "language_info": {
      "name": "python"
    }
  },
  "cells": [
    {
      "cell_type": "markdown",
      "source": [
        "# List, Tuple and Sets"
      ],
      "metadata": {
        "id": "n3FuI-mutNl6"
      }
    },
    {
      "cell_type": "markdown",
      "source": [
        "#### 1. On amazon website we have the following available items - \n",
        "\n",
        "```python\n",
        "amazon_website = [(\"watch\", 5000), (\"phone\", 10000), (\"laptop\", 50000), (\"shirt\", 1000)]\n",
        "```\n",
        "Take the user input N no. of times and find out the total cost to be paid?\n",
        "\n",
        "OR\n",
        "\n",
        "You can ask the user quntity or the count of item?\n",
        "\n",
        "if the item is not present in the amazon website then print that item as out of stock and do add it total\n",
        "\n",
        "\n",
        "HINT: while, for loop.. indexing"
      ],
      "metadata": {
        "id": "hZcGNSR2y9zW"
      }
    },
    {
      "cell_type": "markdown",
      "source": [
        "Ans:"
      ],
      "metadata": {
        "id": "m52GjjS4J5Fc"
      }
    },
    {
      "cell_type": "code",
      "source": [
        "amazon_website = [(\"watch\", 5000), (\"phone\", 10000), (\"laptop\", 50000), (\"shirt\", 1000)]\n",
        "\n",
        "my_choice = input(\"What you want to purchase? : \")\n",
        "\n",
        "N = int(input(\"Enter the amount of purchasing items: \"))\n",
        "\n",
        "for item in amazon_website:\n",
        "  if item[0] == my_choice:\n",
        "    print(f\"Yes, selected item present in the list with amount: {item}\")\n",
        "    print(\"----------------------------------\")\n",
        "    print(f\"Total payable amount for {N} items: {N*item[1]} \") \n",
        "  else:\n",
        "    print(\"Selected item is out of stock\")"
      ],
      "metadata": {
        "colab": {
          "base_uri": "https://localhost:8080/"
        },
        "id": "8I1Ad4AaREOC",
        "outputId": "110e5c96-f37d-4219-d8f4-8142cdf4a4fc"
      },
      "execution_count": null,
      "outputs": [
        {
          "output_type": "stream",
          "name": "stdout",
          "text": [
            "What you want to purchase? : shirt\n",
            "Enter the amount of purchasing items: 2\n",
            "Selected item is out of stock\n",
            "Selected item is out of stock\n",
            "Selected item is out of stock\n",
            "Yes, selected item present in the list with amount: ('shirt', 1000)\n",
            "----------------------------------\n",
            "Total payable amount for 2 items: 2000 \n"
          ]
        }
      ]
    },
    {
      "cell_type": "markdown",
      "source": [
        "#### 2. What will be the output of the following code snippet?\n",
        "\n",
        "```\n",
        "arr = [1, 2, 3, 4, 5, 6]\n",
        "for i in range(1, 6):\n",
        "    arr[i - 1] = arr[i]\n",
        "for i in range(0, 6): \n",
        "    print(arr[i], end = \" \")\n",
        "```"
      ],
      "metadata": {
        "id": "EuziyHFIr4J5"
      }
    },
    {
      "cell_type": "markdown",
      "source": [
        "Ans:"
      ],
      "metadata": {
        "id": "vtEex0yVr7Tt"
      }
    },
    {
      "cell_type": "code",
      "source": [
        "arr = [1, 2, 3, 4, 5, 6]\n",
        "for i in range(1, 6):\n",
        "  print(i)"
      ],
      "metadata": {
        "colab": {
          "base_uri": "https://localhost:8080/"
        },
        "id": "c0ilsWshr8gn",
        "outputId": "8d03984d-0f92-4d68-b924-add6a06dca7e"
      },
      "execution_count": null,
      "outputs": [
        {
          "output_type": "stream",
          "name": "stdout",
          "text": [
            "1\n",
            "2\n",
            "3\n",
            "4\n",
            "5\n"
          ]
        }
      ]
    },
    {
      "cell_type": "code",
      "source": [
        "arr = [1, 2, 3, 4, 5, 6]\n",
        "for i in range(1, 6):  # i = 1 2 3 4 5 6\n",
        "  arr[i - 1] = arr[i] # arr[0] = arr[1]  \n",
        "  # print(arr[i]) #  2 3 4 5 6\n",
        "for i in range(0, 6): \n",
        "  print(arr[i], end = \" \")\n"
      ],
      "metadata": {
        "colab": {
          "base_uri": "https://localhost:8080/"
        },
        "id": "JZfcAMcksR8r",
        "outputId": "f5aa3e44-b31b-47e7-95cf-f9246e888533"
      },
      "execution_count": null,
      "outputs": [
        {
          "output_type": "stream",
          "name": "stdout",
          "text": [
            "2 3 4 5 6 6 "
          ]
        }
      ]
    },
    {
      "cell_type": "markdown",
      "source": [
        "3. Write a Python program to find the repeated items of a tuple."
      ],
      "metadata": {
        "id": "YUoWRBpzwEsY"
      }
    },
    {
      "cell_type": "markdown",
      "source": [
        "Ans: "
      ],
      "metadata": {
        "id": "wN6gZkr6wJkf"
      }
    },
    {
      "cell_type": "code",
      "source": [
        "var=int(input(\"Enter the tup value want to search: \"))\n",
        "tup=(10, 8, 5, 2, 10, 15, 10, 8, 5, 8, 8, 2)  \n",
        "a=list(tup)\n",
        "for i in range(len(a)):\n",
        "  a[i]=int(a[i])\n",
        "count=a.count(var)\n",
        "print(var,'appears',count,'times in the tuple')"
      ],
      "metadata": {
        "colab": {
          "base_uri": "https://localhost:8080/"
        },
        "id": "i99SaFDaxOQz",
        "outputId": "b3dd7eeb-7cb6-4627-88c8-f0198525dcca"
      },
      "execution_count": null,
      "outputs": [
        {
          "output_type": "stream",
          "name": "stdout",
          "text": [
            "Enter the tup value want to search: 1\n",
            "1 appears 0 times in the tuple\n"
          ]
        }
      ]
    },
    {
      "cell_type": "markdown",
      "source": [
        "### 4. Replace last value of tuples in a list with 500. Try using list comprehension\n",
        "\n",
        "Example -: \n",
        "```\n",
        "Input -:\n",
        "\n",
        "[(10, 20, 40), (40, 50, 60), (70, 80, 90)]\n",
        "\n",
        "Output -:\n",
        "[(10, 20, 500), (40, 50, 500), (70, 80, 500)]\n",
        "\n",
        "\n",
        "```\n"
      ],
      "metadata": {
        "id": "ne8WpLZZ1GSm"
      }
    },
    {
      "cell_type": "markdown",
      "source": [
        "Ans:"
      ],
      "metadata": {
        "id": "sURMHpIT2sxV"
      }
    },
    {
      "cell_type": "code",
      "source": [
        "t = [(10, 20, 40), (40, 50, 60), (70, 80, 90)]\n",
        "\n",
        "for i in range(len(t)):\n",
        "   upd_list=list(t[i])\n",
        "   upd_list[-1] = 500\n",
        "   t[i]=tuple(upd_list)\n",
        "\n",
        "print(t)"
      ],
      "metadata": {
        "colab": {
          "base_uri": "https://localhost:8080/"
        },
        "id": "VXNlZdiMri0R",
        "outputId": "43df31fa-ae03-4e37-9dde-7893bd38d97b"
      },
      "execution_count": null,
      "outputs": [
        {
          "output_type": "stream",
          "name": "stdout",
          "text": [
            "[(10, 20, 500), (40, 50, 500), (70, 80, 500)]\n"
          ]
        }
      ]
    },
    {
      "cell_type": "code",
      "source": [
        "t = [(10, 20, 40), (40, 50, 60), (70, 80, 90)]\n",
        "\n",
        "whole_element = []\n",
        "for i in range(len(t)):\n",
        "   upd_list=list(t[i])\n",
        "   upd_list[-1] = 500\n",
        "   t[i]=tuple(upd_list)\n",
        "   whole_element.append(t[i])\n",
        "        \n",
        "whole_element"
      ],
      "metadata": {
        "colab": {
          "base_uri": "https://localhost:8080/"
        },
        "id": "_-Rcsaob9T7m",
        "outputId": "91ead260-1433-408e-9366-a59601a329ce"
      },
      "execution_count": null,
      "outputs": [
        {
          "output_type": "execute_result",
          "data": {
            "text/plain": [
              "[(10, 20, 500), (40, 50, 500), (70, 80, 500)]"
            ]
          },
          "metadata": {},
          "execution_count": 7
        }
      ]
    }
  ]
}