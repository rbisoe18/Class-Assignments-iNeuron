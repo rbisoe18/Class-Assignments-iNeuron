{
  "nbformat": 4,
  "nbformat_minor": 0,
  "metadata": {
    "colab": {
      "provenance": [],
      "collapsed_sections": []
    },
    "kernelspec": {
      "name": "python3",
      "display_name": "Python 3"
    },
    "language_info": {
      "name": "python"
    }
  },
  "cells": [
    {
      "cell_type": "markdown",
      "source": [
        "# Assignment"
      ],
      "metadata": {
        "id": "nuxKbm0TfmUz"
      }
    },
    {
      "cell_type": "markdown",
      "source": [
        "# 1. What is indentation error? Why indentation is important? Give one simple example?"
      ],
      "metadata": {
        "id": "Nq3fyjsVfZRL"
      }
    },
    {
      "cell_type": "markdown",
      "source": [
        "##  ans:\n",
        "The indentation error can occur when the spaces or tabs are not placed properly.There will not be an issue if the interpreter does not find any issues with the spaces or tabs. If there is an error due to indentation, it will come in between the execution and can be a show stopper.\n",
        "\n",
        "Indentation improves the readability of the code. It is mainly used for code inside looping statements, control structures, functions etc. as good intended code is easy to maintain and is good looking. It makes the code more readable and easy to understand.\n",
        "\n",
        "Example\n",
        "\n",
        "if condition:\n",
        "    print(\"execute this statement\")\n",
        "else:\n",
        "    print(\"if condition is not True\")\n",
        "\n",
        "There is exact space between if condition: and print then between else: and print, which shows improvement of indentation. It helps improving visibility with shows no error in code.  "
      ],
      "metadata": {
        "id": "vkc-IlYOf5SG"
      }
    },
    {
      "cell_type": "markdown",
      "source": [
        "# 2. Correct the following code and write the comment where you made the correction?\n",
        "\n",
        "  ```python\n",
        "  class_started = bool(input(\"Hey friend, is class started?: [0-False/1-True]\"))\n",
        "\n",
        "  if class_started:\n",
        "      print(\"Since class started...\")\n",
        "      print(\"Lets concentrate\")\n",
        "  else:\n",
        "      print(\"Since class is not started...\")\n",
        "      print(\"let's revise\")    \n",
        "  ```\n",
        "\n",
        "  **HINT:** Refer your data type conversion class"
      ],
      "metadata": {
        "id": "m5rQcnwbiZcq"
      }
    },
    {
      "cell_type": "markdown",
      "source": [
        "ANS:"
      ],
      "metadata": {
        "id": "P_NpvmEtm5HF"
      }
    },
    {
      "cell_type": "code",
      "execution_count": null,
      "metadata": {
        "colab": {
          "base_uri": "https://localhost:8080/"
        },
        "id": "wGRbh-V9fIiz",
        "outputId": "cf7c15ec-d07c-4628-af85-a1264ed7cf5d"
      },
      "outputs": [
        {
          "output_type": "stream",
          "name": "stdout",
          "text": [
            "Hey friend, is class started?: [0-False/1-True]0\n",
            "Since class is not started...\n",
            "let's revise\n"
          ]
        }
      ],
      "source": [
        "class_started = bool(int(input(\"Hey friend, is class started?: [0-False/1-True]\")))\n",
        "\n",
        "if class_started:\n",
        "    print(\"Since class started...\")\n",
        "    print(\"Lets concentrate\")\n",
        "else:\n",
        "    print(\"Since class is not started...\")\n",
        "    print(\"let's revise\")"
      ]
    },
    {
      "cell_type": "code",
      "source": [
        "class_started = bool(int(input(\"Hey friend, is class started?: [0-False/1-True]\")))\n",
        "\n",
        "if class_started:\n",
        "    print(\"Since class started...\")\n",
        "    print(\"Lets concentrate\")\n",
        "else:\n",
        "    print(\"Since class is not started...\")\n",
        "    print(\"let's revise\")"
      ],
      "metadata": {
        "colab": {
          "base_uri": "https://localhost:8080/"
        },
        "id": "1ESDUeQyN0Ht",
        "outputId": "416ed78c-3eb5-4c10-e305-714302edc93e"
      },
      "execution_count": null,
      "outputs": [
        {
          "output_type": "stream",
          "name": "stdout",
          "text": [
            "Hey friend, is class started?: [0-False/1-True]1\n",
            "Since class started...\n",
            "Lets concentrate\n"
          ]
        }
      ]
    },
    {
      "cell_type": "markdown",
      "source": [
        "# 3. Use if else condition to verify that dataype of `input()` method in python is always string."
      ],
      "metadata": {
        "id": "1h1pi3U3m9CF"
      }
    },
    {
      "cell_type": "markdown",
      "source": [
        "Ans :"
      ],
      "metadata": {
        "id": "NPPIF3IkqeTN"
      }
    },
    {
      "cell_type": "code",
      "source": [
        "A= input(\"Checking the Input method: \")\n",
        "\n",
        "if A:\n",
        "  print(\"Yes, Data type of input() method in python is always string\")\n",
        "else:\n",
        "  print(\"No, Not always string\")"
      ],
      "metadata": {
        "colab": {
          "base_uri": "https://localhost:8080/"
        },
        "id": "YaC_vJ-bnGhc",
        "outputId": "7ff45f23-7313-469d-a584-f26be5ac730a"
      },
      "execution_count": null,
      "outputs": [
        {
          "output_type": "stream",
          "name": "stdout",
          "text": [
            "Checking the Input method: 1\n",
            "Yes, Data type of input() method in python is always string\n"
          ]
        }
      ]
    },
    {
      "cell_type": "code",
      "source": [
        "A= input(\"Checking the Input method: \")\n",
        "\n",
        "if A:\n",
        "  print(\"Yes, Data type of input() method in python is always string\")\n",
        "else:\n",
        "  print(\"No, Not always string\")"
      ],
      "metadata": {
        "colab": {
          "base_uri": "https://localhost:8080/"
        },
        "id": "TdpDOGFdqU8T",
        "outputId": "a1ae15f2-fbdf-44b0-cd37-6401010d9892"
      },
      "execution_count": null,
      "outputs": [
        {
          "output_type": "stream",
          "name": "stdout",
          "text": [
            "Checking the Input method: rajat\n",
            "Yes, Data type of input() method in python is always string\n"
          ]
        }
      ]
    },
    {
      "cell_type": "code",
      "source": [
        "A= input(\"Checking the Input method: \") # when we use null\n",
        "\n",
        "if A:\n",
        "  print(\"Yes, Data type of input() method in python is always string\")\n",
        "else:\n",
        "  print(\"No, Not always string\")"
      ],
      "metadata": {
        "colab": {
          "base_uri": "https://localhost:8080/"
        },
        "id": "OvO8RGKSqZZL",
        "outputId": "fa4a1d6d-328d-4042-b53b-f39399c9a237"
      },
      "execution_count": null,
      "outputs": [
        {
          "output_type": "stream",
          "name": "stdout",
          "text": [
            "Checking the Input method: \n",
            "No, Not always string\n"
          ]
        }
      ]
    },
    {
      "cell_type": "markdown",
      "source": [
        "# 4. Take 3 variables and assign integer values to them. Find the largest variable, by only using the if and else conditions."
      ],
      "metadata": {
        "id": "fuQc76rbqixK"
      }
    },
    {
      "cell_type": "markdown",
      "source": [
        "Ans:"
      ],
      "metadata": {
        "id": "h5P0Rrp7rAmn"
      }
    },
    {
      "cell_type": "code",
      "source": [
        "A=input(\"Enter the value A: \")\n",
        "B=input(\"Enter the value B: \")\n",
        "C=input(\"Enter the value C: \")\n",
        "\n",
        "if A>B and A>C:\n",
        "  print(f\"{A} is greater\")\n",
        "  if B>C and B>A:\n",
        "    print(f\"{B} is greater\")\n",
        "else:\n",
        "  print(f\"{C} is greater\")  "
      ],
      "metadata": {
        "colab": {
          "base_uri": "https://localhost:8080/"
        },
        "id": "WelBc01ZrCri",
        "outputId": "c139ad5b-003c-4ed3-e4d1-855e0ef8c2dd"
      },
      "execution_count": null,
      "outputs": [
        {
          "output_type": "stream",
          "name": "stdout",
          "text": [
            "Enter the value A: 3\n",
            "Enter the value B: 2\n",
            "Enter the value C: 1\n",
            "3 is greater\n"
          ]
        }
      ]
    },
    {
      "cell_type": "markdown",
      "source": [
        "# 5. What would be the solution?\n",
        "    1. True\n",
        "    2. False\n",
        "\n",
        "    ```python\n",
        "    a = 6\n",
        "    b = 10\n",
        "    print( not ( not a == 10 or not b == 10) )\n",
        "    ```"
      ],
      "metadata": {
        "id": "PVsEcuwlx0J8"
      }
    },
    {
      "cell_type": "markdown",
      "source": [
        "Ans : 2. False"
      ],
      "metadata": {
        "id": "ae1YaFcFx8TD"
      }
    },
    {
      "cell_type": "code",
      "source": [
        "a = 6\n",
        "b = 10\n",
        "print( not ( not a == 10 or not b == 10) ) # As (a not equals to 10 is True) or (b not equals to 10 is False)= True then negetion of True will be False"
      ],
      "metadata": {
        "colab": {
          "base_uri": "https://localhost:8080/"
        },
        "id": "lecG9c4Cx6nv",
        "outputId": "1b1f0781-b847-48d2-bed5-016a205c2e02"
      },
      "execution_count": null,
      "outputs": [
        {
          "output_type": "stream",
          "name": "stdout",
          "text": [
            "False\n"
          ]
        }
      ]
    },
    {
      "cell_type": "markdown",
      "source": [
        "# 6. Find the answer as well as find out the reason behind the result? -\n",
        "    - case 1:\n",
        "        ```python\n",
        "        A = 5.0\n",
        "        B = 10/2\n",
        "        print(A is B)\n",
        "        ```\n",
        "    - case 2:\n",
        "        ```python\n",
        "        A = 5.0\n",
        "        B = int(10/2)\n",
        "        print(A is B)\n",
        "        ```\n",
        "    - case 3:\n",
        "        ```python\n",
        "        A = 5.0\n",
        "        B = float(10/2)\n",
        "        print(A is B)\n",
        "        ```"
      ],
      "metadata": {
        "id": "mfX74ZsXy8df"
      }
    },
    {
      "cell_type": "markdown",
      "source": [
        "Ans: "
      ],
      "metadata": {
        "id": "ydoDIXGHzbcJ"
      }
    },
    {
      "cell_type": "markdown",
      "source": [
        "Case: 1"
      ],
      "metadata": {
        "id": "hofEB1WvzuPh"
      }
    },
    {
      "cell_type": "code",
      "source": [
        "# Case 1:\n",
        "A = 5.0\n",
        "B = 10/2\n",
        "print(A is B)"
      ],
      "metadata": {
        "colab": {
          "base_uri": "https://localhost:8080/"
        },
        "id": "UpaUy9y7zCFB",
        "outputId": "bcce228a-2df2-4411-8b4a-1661dd5cde90"
      },
      "execution_count": null,
      "outputs": [
        {
          "output_type": "stream",
          "name": "stdout",
          "text": [
            "False\n"
          ]
        }
      ]
    },
    {
      "cell_type": "markdown",
      "source": [
        "Reason: Address of A and B are different as A is float and B is float with different address."
      ],
      "metadata": {
        "id": "DHGJY-VTze2s"
      }
    },
    {
      "cell_type": "code",
      "source": [
        "print(type(A))\n",
        "print(id(A))"
      ],
      "metadata": {
        "colab": {
          "base_uri": "https://localhost:8080/"
        },
        "id": "zQJyghJFzSxw",
        "outputId": "d6080a98-18f3-4543-a2c5-640ff9a58efb"
      },
      "execution_count": null,
      "outputs": [
        {
          "output_type": "stream",
          "name": "stdout",
          "text": [
            "<class 'float'>\n",
            "139913130234608\n"
          ]
        }
      ]
    },
    {
      "cell_type": "code",
      "source": [
        "print(type(B))\n",
        "print(id(B))"
      ],
      "metadata": {
        "colab": {
          "base_uri": "https://localhost:8080/"
        },
        "id": "-1HPiZKJzVdt",
        "outputId": "85a057f1-1bad-4815-85f5-cb5dfbd2ad9a"
      },
      "execution_count": null,
      "outputs": [
        {
          "output_type": "stream",
          "name": "stdout",
          "text": [
            "<class 'float'>\n",
            "139913130171824\n"
          ]
        }
      ]
    },
    {
      "cell_type": "markdown",
      "source": [
        "Case: 2"
      ],
      "metadata": {
        "id": "xX1UiGfQzqk5"
      }
    },
    {
      "cell_type": "code",
      "source": [
        "A = 5.0\n",
        "B = int(10/2)\n",
        "print(A is B)"
      ],
      "metadata": {
        "colab": {
          "base_uri": "https://localhost:8080/"
        },
        "id": "b4p49oSDztLN",
        "outputId": "6e15ab34-5ed5-4075-ee5f-2a2897b0dace"
      },
      "execution_count": null,
      "outputs": [
        {
          "output_type": "stream",
          "name": "stdout",
          "text": [
            "False\n"
          ]
        }
      ]
    },
    {
      "cell_type": "markdown",
      "source": [
        "Reason: Address with type of A and B are different as A is float and B is Integer with different address."
      ],
      "metadata": {
        "id": "U5zXGdpp0zHH"
      }
    },
    {
      "cell_type": "code",
      "source": [
        "print(type(A))\n",
        "print(id(A))"
      ],
      "metadata": {
        "colab": {
          "base_uri": "https://localhost:8080/"
        },
        "id": "5vg_ONpO1Gvv",
        "outputId": "5c5d4658-8d40-4f97-c24a-e7aab5bb16c5"
      },
      "execution_count": null,
      "outputs": [
        {
          "output_type": "stream",
          "name": "stdout",
          "text": [
            "<class 'float'>\n",
            "139913130235664\n"
          ]
        }
      ]
    },
    {
      "cell_type": "code",
      "source": [
        "print(type(B))\n",
        "print(id(B))"
      ],
      "metadata": {
        "colab": {
          "base_uri": "https://localhost:8080/"
        },
        "id": "uFwYIsiB1Jkq",
        "outputId": "eb8e1abd-13be-40af-a18b-f7df62124d4a"
      },
      "execution_count": null,
      "outputs": [
        {
          "output_type": "stream",
          "name": "stdout",
          "text": [
            "<class 'int'>\n",
            "11122720\n"
          ]
        }
      ]
    },
    {
      "cell_type": "markdown",
      "source": [
        "Case: 3"
      ],
      "metadata": {
        "id": "5L3VDG1S1O-a"
      }
    },
    {
      "cell_type": "code",
      "source": [
        "A = 5.0\n",
        "B = float(10/2)\n",
        "print(A is B)"
      ],
      "metadata": {
        "colab": {
          "base_uri": "https://localhost:8080/"
        },
        "id": "En_5v1v11RBh",
        "outputId": "c9d85ed0-79df-4c02-8fe2-720c6eeab0ac"
      },
      "execution_count": null,
      "outputs": [
        {
          "output_type": "stream",
          "name": "stdout",
          "text": [
            "False\n"
          ]
        }
      ]
    },
    {
      "cell_type": "markdown",
      "source": [
        "Reason: Address of A and B are different as A is float and B is Float with different address."
      ],
      "metadata": {
        "id": "pVgaqfAo1yi0"
      }
    },
    {
      "cell_type": "code",
      "source": [
        "print(type(A))\n",
        "print(id(A))"
      ],
      "metadata": {
        "colab": {
          "base_uri": "https://localhost:8080/"
        },
        "id": "WCEZjHlE15qJ",
        "outputId": "3859257b-83ef-4073-e6cc-1ca956c4f531"
      },
      "execution_count": null,
      "outputs": [
        {
          "output_type": "stream",
          "name": "stdout",
          "text": [
            "<class 'float'>\n",
            "139913130170256\n"
          ]
        }
      ]
    },
    {
      "cell_type": "code",
      "source": [
        "print(type(B))\n",
        "print(id(B))"
      ],
      "metadata": {
        "id": "bpD94RRt2J0T",
        "outputId": "1ffd2209-7235-4019-c8c7-5a20cf2f0099",
        "colab": {
          "base_uri": "https://localhost:8080/"
        }
      },
      "execution_count": null,
      "outputs": [
        {
          "output_type": "stream",
          "name": "stdout",
          "text": [
            "<class 'float'>\n",
            "139913130170128\n"
          ]
        }
      ]
    },
    {
      "cell_type": "markdown",
      "source": [
        "# 7. Write a program that asks the user to enter a number. You should print out a message to the user, either “That number is divisible by either 3 or 5”, or “That number is not divisible by either 3 or 5”. Be sure to consider the data type of the input you are taking in from the user. Use a single if/else block to solve this problem."
      ],
      "metadata": {
        "id": "3lH6NhdLMjx9"
      }
    },
    {
      "cell_type": "markdown",
      "source": [
        "Ans:"
      ],
      "metadata": {
        "id": "R39li51QSdPV"
      }
    },
    {
      "cell_type": "code",
      "source": [
        "num=int(input(\"Enter a number:\"))\n",
        "\n",
        "if num%3==0 or num%5==0:\n",
        "  print(f\"{num} is divisible by either 3 or 5\")\n",
        "else:\n",
        "  print(f\"{num} is not divisible by either 3 or 5\")"
      ],
      "metadata": {
        "colab": {
          "base_uri": "https://localhost:8080/"
        },
        "id": "Rlu3WBo2Sb1x",
        "outputId": "c8bcf109-a42e-4ac7-95b5-7e2ced0e5446"
      },
      "execution_count": null,
      "outputs": [
        {
          "output_type": "stream",
          "name": "stdout",
          "text": [
            "Enter a number:15\n",
            "15 is divisible by either 3 or 5\n"
          ]
        }
      ]
    },
    {
      "cell_type": "code",
      "source": [
        "num=int(input(\"Enter a number:\"))\n",
        "\n",
        "if num%3==0 or num%5==0:\n",
        "  print(f\"{num} is divisible by either 3 or 5\")\n",
        "else:\n",
        "  print(f\"{num} is not divisible by either 3 or 5\")"
      ],
      "metadata": {
        "colab": {
          "base_uri": "https://localhost:8080/"
        },
        "id": "u8xzQUzSTvMP",
        "outputId": "dce3b7f0-3ecf-4c5d-e376-2a2da8bd2b59"
      },
      "execution_count": null,
      "outputs": [
        {
          "output_type": "stream",
          "name": "stdout",
          "text": [
            "Enter a number:12\n",
            "12 is divisible by either 3 or 5\n"
          ]
        }
      ]
    },
    {
      "cell_type": "code",
      "source": [
        "num=int(input(\"Enter a number:\"))\n",
        "\n",
        "if num%3==0 or num%5==0:\n",
        "  print(f\"{num} is divisible by either 3 or 5\")\n",
        "else:\n",
        "  print(f\"{num} is not divisible by either 3 or 5\")"
      ],
      "metadata": {
        "colab": {
          "base_uri": "https://localhost:8080/"
        },
        "id": "aDZQd305T8OR",
        "outputId": "90ef277d-57c7-436f-c30e-6a42d79b04e6"
      },
      "execution_count": null,
      "outputs": [
        {
          "output_type": "stream",
          "name": "stdout",
          "text": [
            "Enter a number:20\n",
            "20 is divisible by either 3 or 5\n"
          ]
        }
      ]
    },
    {
      "cell_type": "code",
      "source": [
        "num=int(input(\"Enter a number:\"))\n",
        "\n",
        "if num%3==0 or num%5==0:\n",
        "  print(f\"{num} is divisible by either 3 or 5\")\n",
        "else:\n",
        "  print(f\"{num} is not divisible by either 3 or 5\")"
      ],
      "metadata": {
        "colab": {
          "base_uri": "https://localhost:8080/"
        },
        "id": "x9Q1y5gkT_n7",
        "outputId": "1b354237-33f7-4dd2-8499-8e3477fe6480"
      },
      "execution_count": null,
      "outputs": [
        {
          "output_type": "stream",
          "name": "stdout",
          "text": [
            "Enter a number:17\n",
            "17 is not divisible by either 3 or 5\n"
          ]
        }
      ]
    },
    {
      "cell_type": "markdown",
      "source": [
        "# 8. Take user input for length and width. Then calculate the area of rectangle. Also print as per length and width whether its a square of rectangle.\n"
      ],
      "metadata": {
        "id": "_cAba27gUC0a"
      }
    },
    {
      "cell_type": "code",
      "source": [
        "len=int(input(\"Enter the length: \")) # Length\n",
        "wid=int(input(\"Enter the breath: \")) # Width\n",
        "\n",
        "area=len*wid\n",
        "print(f\"Area: {area}\")\n",
        "\n",
        "if len==wid:\n",
        "  print(\"It's a Square\")\n",
        "else:\n",
        "  print(\"It's a rectangule\")"
      ],
      "metadata": {
        "colab": {
          "base_uri": "https://localhost:8080/"
        },
        "id": "X-7oTCgeUH77",
        "outputId": "3f129a5d-887e-452e-9be7-5bd2aa58ac0e"
      },
      "execution_count": null,
      "outputs": [
        {
          "output_type": "stream",
          "name": "stdout",
          "text": [
            "Enter the length: 3\n",
            "Enter the breath: 2\n",
            "Area: 6\n",
            "It's a rectangule\n"
          ]
        }
      ]
    },
    {
      "cell_type": "code",
      "source": [
        "len=int(input(\"Enter the length: \")) # Length\n",
        "wid=int(input(\"Enter the breath: \")) # Width\n",
        "\n",
        "area=len*wid\n",
        "print(f\"Area: {area}\")\n",
        "\n",
        "if len==wid:\n",
        "  print(\"It's a Square\")\n",
        "else:\n",
        "  print(\"It's a rectangle\")"
      ],
      "metadata": {
        "colab": {
          "base_uri": "https://localhost:8080/"
        },
        "id": "zbJO8LkGaTRU",
        "outputId": "805e9ee1-9085-4113-f43c-c7563553f405"
      },
      "execution_count": null,
      "outputs": [
        {
          "output_type": "stream",
          "name": "stdout",
          "text": [
            "Enter the length: 3\n",
            "Enter the breath: 3\n",
            "Area: 9\n",
            "It's a Square\n"
          ]
        }
      ]
    },
    {
      "cell_type": "markdown",
      "source": [
        "# 9. Take two variable radius_1 and radius_2 and calculate the area of circle_1 and circle_2. Also print which circle has large area. If area is equal then print area is equal."
      ],
      "metadata": {
        "id": "yAPVkhKjatSQ"
      }
    },
    {
      "cell_type": "code",
      "source": [
        "radius_1=float(int(input(\"Enter the radius_1 :\"))) # If we want to put float value then we have to put float instead of float directly as we are using pi\n",
        "radius_2=float(int(input(\"Enter the radius_2 :\")))\n",
        "pi=3.14\n",
        "area_circle_1=pi*((radius_1)**2)\n",
        "area_circle_2=pi*((radius_2)**2)\n",
        "\n",
        "print(f\"area of cicrcle_1 is: {area_circle_1}\")\n",
        "print(f\"area of cicrcle_2 is: {area_circle_2}\")\n",
        "\n",
        "if area_circle_1>=area_circle_2:\n",
        "  if area_circle_1==area_circle_2:\n",
        "    print(\"area of circle_1 and area of circle_2 having same area\")\n",
        "  else:\n",
        "    print(\"area of circle_1 having large area\")\n",
        "else:\n",
        "  print(\"area of circle_2 having large area\")\n",
        "\n",
        "# if area_circle_1>area_circle_2:\n",
        "#   print(\"area of circle_1 having large area\")\n",
        "#   if area_circle_1==area_circle_2:\n",
        "#     print(\"area of circle_1 and area of circle_2 having same area\")\n",
        "# else:\n",
        "#   print(\"area of circle_2 having large area\")\n",
        "\n"
      ],
      "metadata": {
        "colab": {
          "base_uri": "https://localhost:8080/"
        },
        "id": "uxEa9VEca3Gf",
        "outputId": "c07e936a-3558-4145-bbb8-3310501a9b6a"
      },
      "execution_count": null,
      "outputs": [
        {
          "output_type": "stream",
          "name": "stdout",
          "text": [
            "Enter the radius_1 :3\n",
            "Enter the radius_2 :4\n",
            "area of cicrcle_1 is: 28.26\n",
            "area of cicrcle_2 is: 50.24\n",
            "area of circle_2 having large area\n"
          ]
        }
      ]
    },
    {
      "cell_type": "markdown",
      "source": [
        "# 10. Check whether a year is leap year or not. Use nested if...else to solve this problem. A leap year is exactly divisible by 4 except for century years (years ending with 00). The century year is a leap year only if it is perfectly divisible by 400.\n",
        "\n"
      ],
      "metadata": {
        "id": "efrAznPkGM3o"
      }
    },
    {
      "cell_type": "code",
      "source": [
        "year=int(input(\"Enter the Year: \"))\n",
        "\n",
        "if year%4==0 or year %400==0:\n",
        "  print(f\"{year} is a Leap Yea1r\")\n",
        "else:\n",
        "  print(f\"{year} is not a leap year.\")  "
      ],
      "metadata": {
        "colab": {
          "base_uri": "https://localhost:8080/"
        },
        "id": "u8T2WO-TGPyU",
        "outputId": "140a1ae1-f4d0-4da1-f0c4-08f95aaca3ef"
      },
      "execution_count": null,
      "outputs": [
        {
          "output_type": "stream",
          "name": "stdout",
          "text": [
            "Enter the Year: 1616\n",
            "1616 is a Leap Year\n"
          ]
        }
      ]
    },
    {
      "cell_type": "code",
      "source": [
        "year=int(input(\"Enter the Year: \"))\n",
        "\n",
        "if year%4==0 or year %400==0:\n",
        "  print(f\"{year} is a Leap Yea1r\")\n",
        "else:\n",
        "  print(f\"{year} is not a leap year.\")  "
      ],
      "metadata": {
        "colab": {
          "base_uri": "https://localhost:8080/"
        },
        "id": "0M3pVHp-TwwE",
        "outputId": "c15eb833-b7ec-42e0-bf1e-f85dd5eca364"
      },
      "execution_count": null,
      "outputs": [
        {
          "output_type": "stream",
          "name": "stdout",
          "text": [
            "Enter the Year: 2022\n",
            "2022 is not a leap year.\n"
          ]
        }
      ]
    }
  ]
}